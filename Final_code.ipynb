{
 "cells": [
  {
   "cell_type": "code",
   "execution_count": 1,
   "metadata": {},
   "outputs": [],
   "source": [
    "import pandas as pd\n",
    "import numpy as np\n",
    "import matplotlib.pyplot as plt\n",
    "import seaborn as sns\n",
    "import config\n",
    "api_key = config.api_key\n",
    "import requests\n",
    "from bs4 import BeautifulSoup\n",
    "import re\n",
    "import datetime\n",
    "\n",
    "\n",
    "# remove scientific notation display for floats\n",
    "pd.set_option('display.float_format', lambda x: '%.5f' % x)"
   ]
  },
  {
   "cell_type": "markdown",
   "metadata": {},
   "source": [
    "Testing scm_breeze again\n"
   ]
  },
  {
   "cell_type": "markdown",
   "metadata": {},
   "source": [
    "# Data Sources. Extracting and Cleaning"
   ]
  },
  {
   "cell_type": "markdown",
   "metadata": {},
   "source": [
    "## Box Office Mojo movie grosses"
   ]
  },
  {
   "cell_type": "code",
   "execution_count": 2,
   "metadata": {},
   "outputs": [],
   "source": [
    "#read data\n",
    "# gross_bom = pd.read_csv('Data/bom.movie_gross.csv.gz', compression='gzip')\n",
    "# gross_bom.info()"
   ]
  },
  {
   "cell_type": "markdown",
   "metadata": {},
   "source": [
    "### Note: Not all movies have information for foreign gross earnings. To suplement foreign gross when not available we will use the ratio of the average (median) domestic to foreign gross, and then make a column for total gross earnings"
   ]
  },
  {
   "cell_type": "code",
   "execution_count": 3,
   "metadata": {},
   "outputs": [],
   "source": [
    "# Creating foreign_release column in order to create expected foreign gross column.\n",
    "# gross_bom['no_foreign_release'] = gross_bom.foreign_gross.map(lambda x : pd.isnull(x))"
   ]
  },
  {
   "cell_type": "code",
   "execution_count": 4,
   "metadata": {},
   "outputs": [],
   "source": [
    "# print(gross_bom['no_foreign_release'].value_counts())"
   ]
  },
  {
   "cell_type": "markdown",
   "metadata": {},
   "source": [
    "### Create a DataFrame without null values to collect comparative stats"
   ]
  },
  {
   "cell_type": "code",
   "execution_count": 5,
   "metadata": {},
   "outputs": [],
   "source": [
    "# remove na rows from foreign_gross\n",
    "# foreign_gross_drop_nan = gross_bom.dropna(axis= 0, subset=['foreign_gross'])"
   ]
  },
  {
   "cell_type": "code",
   "execution_count": 6,
   "metadata": {},
   "outputs": [],
   "source": [
    "# # remove comma from string then convert to int\n",
    "# foreign_gross_drop_nan['foreign_gross'] = foreign_gross_drop_nan['foreign_gross'].map(lambda val : int(float(val.replace(\",\", \"\"))))"
   ]
  },
  {
   "cell_type": "code",
   "execution_count": 7,
   "metadata": {},
   "outputs": [],
   "source": [
    "# foreign_gross_drop_nan.info()"
   ]
  },
  {
   "cell_type": "code",
   "execution_count": 8,
   "metadata": {},
   "outputs": [],
   "source": [
    "# find ratio of domestic to foreign median\n",
    "# no_na_foreign_gross.domestic_gross.median()/no_na_foreign_gross.foreign_gross.median()"
   ]
  },
  {
   "cell_type": "code",
   "execution_count": 9,
   "metadata": {},
   "outputs": [],
   "source": [
    "# set foreign_gross na's to 0 in order to do arithmetic operations\n",
    "# gross_bom.foreign_gross.fillna(\"0\", inplace=True)"
   ]
  },
  {
   "cell_type": "code",
   "execution_count": 10,
   "metadata": {},
   "outputs": [],
   "source": [
    "# convert foreign_gross strings to int\n",
    "# gross_bom.foreign_gross = gross_bom.foreign_gross.map(lambda val : int(float(val.replace(\",\", \"\"))))"
   ]
  },
  {
   "cell_type": "code",
   "execution_count": 11,
   "metadata": {},
   "outputs": [],
   "source": [
    "# no_na_data = {'dom_median': no_na_foreign_gross.domestic_gross.median(), 'foreign_median': no_na_foreign_gross.foreign_gross.median()}"
   ]
  },
  {
   "cell_type": "code",
   "execution_count": 12,
   "metadata": {},
   "outputs": [],
   "source": [
    "# def total_gross(no_foreign_release, domestic_gross, foreign_gross):\n",
    "#     if no_foreign_release:\n",
    "#         return domestic_gross*(no_na_data['foreign_median']/no_na_data['dom_median'])\n",
    "#     else:\n",
    "#         return domestic_gross + foreign_gross"
   ]
  },
  {
   "cell_type": "markdown",
   "metadata": {},
   "source": [
    "### Create total_gross column"
   ]
  },
  {
   "cell_type": "code",
   "execution_count": 13,
   "metadata": {},
   "outputs": [],
   "source": [
    "# gross_bom['total_gross'] = gross_bom.apply(lambda row : total_gross(row.no_foreign_release, row.domestic_gross, row.foreign_gross), axis=1)"
   ]
  },
  {
   "cell_type": "markdown",
   "metadata": {},
   "source": [
    "## IMDB Basic info by Title"
   ]
  },
  {
   "cell_type": "code",
   "execution_count": 14,
   "metadata": {},
   "outputs": [],
   "source": [
    "# title_basics_imdb = pd.read_csv('zippedData/imdb.title.basics.csv.gz', compression='gzip')\n",
    "# title_basics_imdb.info(1)"
   ]
  },
  {
   "cell_type": "markdown",
   "metadata": {},
   "source": [
    "### Remove NaN rows from genres\n",
    "(Because we are only looking at Animated films, we are not concerned with losing the data)"
   ]
  },
  {
   "cell_type": "code",
   "execution_count": 15,
   "metadata": {},
   "outputs": [],
   "source": [
    "# title_basics_imdb.dropna(axis= 0, subset=['genres'], inplace=True)"
   ]
  },
  {
   "cell_type": "markdown",
   "metadata": {},
   "source": [
    "### Create Animated Films DF"
   ]
  },
  {
   "cell_type": "code",
   "execution_count": 16,
   "metadata": {},
   "outputs": [],
   "source": [
    "# imdb_animated_films_df = title_basics_imdb[title_basics_imdb['genres'].str.contains('Animation')]"
   ]
  },
  {
   "cell_type": "markdown",
   "metadata": {},
   "source": [
    "### Create non-animated films for comparison"
   ]
  },
  {
   "cell_type": "code",
   "execution_count": 17,
   "metadata": {},
   "outputs": [],
   "source": [
    "# imdb_non_animated_films_df = title_basics_imdb[~title_basics_imdb['genres'].str.contains('Animation')]\n",
    "# the addition of the tilda into our function above tells it to return the rows where this is false. A cool tool!!"
   ]
  },
  {
   "cell_type": "markdown",
   "metadata": {},
   "source": [
    "## The Movie DataBase"
   ]
  },
  {
   "cell_type": "markdown",
   "metadata": {},
   "source": [
    "### TMDB info"
   ]
  },
  {
   "cell_type": "code",
   "execution_count": 18,
   "metadata": {},
   "outputs": [
    {
     "name": "stdout",
     "output_type": "stream",
     "text": [
      "<class 'pandas.core.frame.DataFrame'>\n",
      "RangeIndex: 26517 entries, 0 to 26516\n",
      "Data columns (total 10 columns):\n",
      "Unnamed: 0           26517 non-null int64\n",
      "genre_ids            26517 non-null object\n",
      "id                   26517 non-null int64\n",
      "original_language    26517 non-null object\n",
      "original_title       26517 non-null object\n",
      "popularity           26517 non-null float64\n",
      "release_date         26517 non-null object\n",
      "title                26517 non-null object\n",
      "vote_average         26517 non-null float64\n",
      "vote_count           26517 non-null int64\n",
      "dtypes: float64(2), int64(3), object(5)\n",
      "memory usage: 2.0+ MB\n"
     ]
    }
   ],
   "source": [
    "tmdb_movie_db = pd.read_csv('Data/tmdb.movies.csv.gz', compression='gzip')\n",
    "tmdb_movie_db.info()"
   ]
  },
  {
   "cell_type": "markdown",
   "metadata": {},
   "source": [
    "#### separate animated movies and non-animated movies"
   ]
  },
  {
   "cell_type": "code",
   "execution_count": 19,
   "metadata": {},
   "outputs": [],
   "source": [
    "tmdb_animated_info_df = tmdb_movie_db[tmdb_movie_db['genre_ids'].str.contains('16')]"
   ]
  },
  {
   "cell_type": "code",
   "execution_count": 20,
   "metadata": {},
   "outputs": [],
   "source": [
    "tmdb_non_animated_info_df = tmdb_movie_db[~tmdb_movie_db['genre_ids'].str.contains('16')]"
   ]
  },
  {
   "cell_type": "markdown",
   "metadata": {},
   "source": [
    "### TMDB budgets"
   ]
  },
  {
   "cell_type": "code",
   "execution_count": 21,
   "metadata": {},
   "outputs": [
    {
     "name": "stdout",
     "output_type": "stream",
     "text": [
      "<class 'pandas.core.frame.DataFrame'>\n",
      "RangeIndex: 5782 entries, 0 to 5781\n",
      "Data columns (total 6 columns):\n",
      "id                   5782 non-null int64\n",
      "release_date         5782 non-null object\n",
      "movie                5782 non-null object\n",
      "production_budget    5782 non-null object\n",
      "domestic_gross       5782 non-null object\n",
      "worldwide_gross      5782 non-null object\n",
      "dtypes: int64(1), object(5)\n",
      "memory usage: 271.2+ KB\n"
     ]
    }
   ],
   "source": [
    "tmbd_movie_budgets = pd.read_csv('zippedData/tn.movie_budgets.csv.gz', compression='gzip')\n",
    "tmbd_movie_budgets.info()"
   ]
  },
  {
   "cell_type": "markdown",
   "metadata": {},
   "source": [
    "#### strip budgets and revenes"
   ]
  },
  {
   "cell_type": "code",
   "execution_count": 22,
   "metadata": {},
   "outputs": [],
   "source": [
    "tmbd_movie_budgets.production_budget = tmbd_movie_budgets.production_budget.map(lambda budget : int(budget.replace('$', '').replace(',', '')))\n"
   ]
  },
  {
   "cell_type": "code",
   "execution_count": 23,
   "metadata": {},
   "outputs": [],
   "source": [
    "tmbd_movie_budgets.worldwide_gross = tmbd_movie_budgets.worldwide_gross.map(lambda budget : int(budget.replace('$', '').replace(',', '')))"
   ]
  },
  {
   "cell_type": "markdown",
   "metadata": {},
   "source": [
    "### Combining DF containing name and genre with DF containing budgets and returns"
   ]
  },
  {
   "cell_type": "code",
   "execution_count": 24,
   "metadata": {},
   "outputs": [
    {
     "name": "stdout",
     "output_type": "stream",
     "text": [
      "<class 'pandas.core.frame.DataFrame'>\n",
      "RangeIndex: 5782 entries, 0 to 5781\n",
      "Data columns (total 6 columns):\n",
      "id                   5782 non-null int64\n",
      "release_date         5782 non-null object\n",
      "movie                5782 non-null object\n",
      "production_budget    5782 non-null int64\n",
      "domestic_gross       5782 non-null object\n",
      "worldwide_gross      5782 non-null int64\n",
      "dtypes: int64(3), object(3)\n",
      "memory usage: 271.2+ KB\n"
     ]
    }
   ],
   "source": [
    "tmbd_movie_budgets.info()"
   ]
  },
  {
   "cell_type": "code",
   "execution_count": 25,
   "metadata": {},
   "outputs": [],
   "source": [
    "tmdb_animated_merge_df = pd.merge(tmdb_animated_info_df, tmbd_movie_budgets, how='inner', left_on='title', right_on='movie')\n"
   ]
  },
  {
   "cell_type": "code",
   "execution_count": 26,
   "metadata": {},
   "outputs": [
    {
     "name": "stdout",
     "output_type": "stream",
     "text": [
      "<class 'pandas.core.frame.DataFrame'>\n",
      "Int64Index: 149 entries, 0 to 148\n",
      "Data columns (total 16 columns):\n",
      "Unnamed: 0           149 non-null int64\n",
      "genre_ids            149 non-null object\n",
      "id_x                 149 non-null int64\n",
      "original_language    149 non-null object\n",
      "original_title       149 non-null object\n",
      "popularity           149 non-null float64\n",
      "release_date_x       149 non-null object\n",
      "title                149 non-null object\n",
      "vote_average         149 non-null float64\n",
      "vote_count           149 non-null int64\n",
      "id_y                 149 non-null int64\n",
      "release_date_y       149 non-null object\n",
      "movie                149 non-null object\n",
      "production_budget    149 non-null int64\n",
      "domestic_gross       149 non-null object\n",
      "worldwide_gross      149 non-null int64\n",
      "dtypes: float64(2), int64(6), object(8)\n",
      "memory usage: 19.8+ KB\n"
     ]
    }
   ],
   "source": [
    "tmdb_animated_merge_df.info()"
   ]
  },
  {
   "cell_type": "code",
   "execution_count": 27,
   "metadata": {},
   "outputs": [],
   "source": [
    "non_animated_merge_df = pd.merge(tmdb_non_animated_info_df, tmbd_movie_budgets, how='inner', left_on='title'.lower(), right_on='movie'.lower())\n"
   ]
  },
  {
   "cell_type": "code",
   "execution_count": 28,
   "metadata": {},
   "outputs": [
    {
     "name": "stdout",
     "output_type": "stream",
     "text": [
      "<class 'pandas.core.frame.DataFrame'>\n",
      "Int64Index: 2236 entries, 0 to 2235\n",
      "Data columns (total 16 columns):\n",
      "Unnamed: 0           2236 non-null int64\n",
      "genre_ids            2236 non-null object\n",
      "id_x                 2236 non-null int64\n",
      "original_language    2236 non-null object\n",
      "original_title       2236 non-null object\n",
      "popularity           2236 non-null float64\n",
      "release_date_x       2236 non-null object\n",
      "title                2236 non-null object\n",
      "vote_average         2236 non-null float64\n",
      "vote_count           2236 non-null int64\n",
      "id_y                 2236 non-null int64\n",
      "release_date_y       2236 non-null object\n",
      "movie                2236 non-null object\n",
      "production_budget    2236 non-null int64\n",
      "domestic_gross       2236 non-null object\n",
      "worldwide_gross      2236 non-null int64\n",
      "dtypes: float64(2), int64(6), object(8)\n",
      "memory usage: 297.0+ KB\n"
     ]
    }
   ],
   "source": [
    "non_animated_merge_df.info()"
   ]
  },
  {
   "cell_type": "markdown",
   "metadata": {},
   "source": [
    "## Data from TMDB API"
   ]
  },
  {
   "cell_type": "code",
   "execution_count": 29,
   "metadata": {},
   "outputs": [],
   "source": [
    "tmdb_by_revenue_df = pd.read_csv('Data/tmdb_animation_by_revenue.csv', index_col=None, header=0, engine='python' )"
   ]
  },
  {
   "cell_type": "markdown",
   "metadata": {},
   "source": [
    "### preserve a copy of the original data before cleaning for use later"
   ]
  },
  {
   "cell_type": "code",
   "execution_count": 30,
   "metadata": {},
   "outputs": [],
   "source": [
    "original_tmdb_by_revenue_df = tmdb_by_revenue_df"
   ]
  },
  {
   "cell_type": "markdown",
   "metadata": {},
   "source": [
    "### Clean data"
   ]
  },
  {
   "cell_type": "code",
   "execution_count": 31,
   "metadata": {},
   "outputs": [],
   "source": [
    "tmdb_by_revenue_df.dropna(axis=0, subset=['revenue'], inplace=True)"
   ]
  },
  {
   "cell_type": "code",
   "execution_count": 32,
   "metadata": {},
   "outputs": [],
   "source": [
    "tmdb_by_revenue_df.dropna(axis=0, subset=['budget'], inplace=True)"
   ]
  },
  {
   "cell_type": "code",
   "execution_count": 33,
   "metadata": {
    "scrolled": true
   },
   "outputs": [],
   "source": [
    "# turn budget into number\n",
    "tmdb_by_revenue_df['budget'] = pd.to_numeric(tmdb_by_revenue_df['budget'])"
   ]
  },
  {
   "cell_type": "markdown",
   "metadata": {},
   "source": [
    "#### Remove movies with revenue below $10,000"
   ]
  },
  {
   "cell_type": "code",
   "execution_count": 34,
   "metadata": {},
   "outputs": [],
   "source": [
    "tmdb_by_revenue_df = tmdb_by_revenue_df[tmdb_by_revenue_df.revenue >= 10000]"
   ]
  },
  {
   "cell_type": "markdown",
   "metadata": {},
   "source": [
    "#### Remove movies with budgets of 0"
   ]
  },
  {
   "cell_type": "code",
   "execution_count": 35,
   "metadata": {},
   "outputs": [],
   "source": [
    "tmdb_by_revenue_df = tmdb_by_revenue_df[tmdb_by_revenue_df.budget != 0]"
   ]
  },
  {
   "cell_type": "markdown",
   "metadata": {},
   "source": [
    "#### correlation of data and cost to earnings ratio for non-animated movies"
   ]
  },
  {
   "cell_type": "code",
   "execution_count": 36,
   "metadata": {},
   "outputs": [
    {
     "data": {
      "text/plain": [
       "0.7984802918295224"
      ]
     },
     "execution_count": 36,
     "metadata": {},
     "output_type": "execute_result"
    }
   ],
   "source": [
    "non_animated_merge_df.production_budget.corr(non_animated_merge_df.worldwide_gross)"
   ]
  },
  {
   "cell_type": "code",
   "execution_count": 37,
   "metadata": {},
   "outputs": [
    {
     "data": {
      "text/plain": [
       "3.04830174252247"
      ]
     },
     "execution_count": 37,
     "metadata": {},
     "output_type": "execute_result"
    }
   ],
   "source": [
    "non_animated_merge_df.worldwide_gross.mean()/non_animated_merge_df.production_budget.mean()"
   ]
  },
  {
   "cell_type": "code",
   "execution_count": 38,
   "metadata": {
    "scrolled": true
   },
   "outputs": [
    {
     "data": {
      "image/png": "[encoded data removed]",
      "text/plain": [
       "<Figure size 1440x720 with 1 Axes>"
      ]
     },
     "metadata": {
      "needs_background": "light"
     },
     "output_type": "display_data"
    }
   ],
   "source": [
    "fig, ax = plt.subplots(figsize=(20,10))\n",
    "sns.regplot(non_animated_merge_df.production_budget/1e6, non_animated_merge_df.worldwide_gross/1e6)\n",
    "ax.set_xlabel(\"Production Budget (M)\")\n",
    "ax.set_ylabel(\"Worldwide Gross (M)\")\n",
    "ax.set_title(\"Non-animated Movies, Budget vs Gross (in millions)\")\n",
    "plt.savefig('Non-animated_Movies_Budget_vs_Gross.png')"
   ]
  },
  {
   "cell_type": "markdown",
   "metadata": {},
   "source": [
    "#### correlation of data and cost to earnings ratio for animated movies"
   ]
  },
  {
   "cell_type": "code",
   "execution_count": 39,
   "metadata": {
    "scrolled": true
   },
   "outputs": [
    {
     "data": {
      "text/plain": [
       "0.7051248042113353"
      ]
     },
     "execution_count": 39,
     "metadata": {},
     "output_type": "execute_result"
    }
   ],
   "source": [
    "tmdb_by_revenue_df.budget.corr(tmdb_by_revenue_df.revenue)"
   ]
  },
  {
   "cell_type": "code",
   "execution_count": 40,
   "metadata": {},
   "outputs": [
    {
     "data": {
      "text/plain": [
       "3.545580252739539"
      ]
     },
     "execution_count": 40,
     "metadata": {},
     "output_type": "execute_result"
    }
   ],
   "source": [
    "tmdb_by_revenue_df.revenue.mean()/tmdb_by_revenue_df.budget.mean()"
   ]
  },
  {
   "cell_type": "code",
   "execution_count": 41,
   "metadata": {},
   "outputs": [
    {
     "data": {
      "image/png": "[encoded data removed]",
      "text/plain": [
       "<Figure size 1440x720 with 1 Axes>"
      ]
     },
     "metadata": {
      "needs_background": "light"
     },
     "output_type": "display_data"
    }
   ],
   "source": [
    "fig, ax = plt.subplots(figsize=(20,10))\n",
    "sns.regplot(tmdb_by_revenue_df['budget']/1e6, tmdb_by_revenue_df['revenue']/1e6)\n",
    "ax.set_xlabel(\"Production Budget (M)\")\n",
    "ax.set_ylabel(\"Worldwide Gross (M)\")\n",
    "ax.set_title(\"Animated Movies, Budget vs Gross (in millions)\")\n",
    "plt.savefig(\"graphs/Animated_Movies_Budget_vs_Gross.png\")"
   ]
  },
  {
   "cell_type": "markdown",
   "metadata": {},
   "source": [
    "### Using uncleaned data to find production trends"
   ]
  },
  {
   "cell_type": "code",
   "execution_count": 42,
   "metadata": {},
   "outputs": [],
   "source": [
    "original_tmdb_by_revenue_df.dropna(how='any', subset=['release_date'], inplace=True)"
   ]
  },
  {
   "cell_type": "markdown",
   "metadata": {},
   "source": [
    "#### create release_year column"
   ]
  },
  {
   "cell_type": "code",
   "execution_count": 43,
   "metadata": {
    "scrolled": true
   },
   "outputs": [],
   "source": [
    "# use first 4 characters in release_date to isolate year\n",
    "original_tmdb_by_revenue_df[\"release_year\"] = original_tmdb_by_revenue_df[\"release_date\"].map(lambda date : date[0:4])"
   ]
  },
  {
   "cell_type": "code",
   "execution_count": 44,
   "metadata": {
    "scrolled": true
   },
   "outputs": [],
   "source": [
    "# convert year to int\n",
    "original_tmdb_by_revenue_df[\"release_year\"] = original_tmdb_by_revenue_df[\"release_year\"].astype(int)"
   ]
  },
  {
   "cell_type": "code",
   "execution_count": 45,
   "metadata": {},
   "outputs": [
    {
     "data": {
      "image/png": "[encoded data removed]",
      "text/plain": [
       "<Figure size 1080x432 with 1 Axes>"
      ]
     },
     "metadata": {
      "needs_background": "light"
     },
     "output_type": "display_data"
    }
   ],
   "source": [
    "# Show animated movies released from 2010 through 2019\n",
    "new_df = original_tmdb_by_revenue_df.loc[(original_tmdb_by_revenue_df['release_year'] > 2009) & (original_tmdb_by_revenue_df['release_year'] < 2020)]\n",
    "y= new_df.groupby(\"release_year\")['title'].count()\n",
    "x= new_df.groupby(\"release_year\")['title'].count().index\n",
    "\n",
    "# Ploting The Graph\n",
    "\n",
    "figure, ax=plt.subplots(figsize=(15,6))\n",
    "ax.bar(x,y)\n",
    "ax.set_title('Number of Animated movies produced over the previous 10 years')\n",
    "ax.set_xlabel('Year')\n",
    "ax.set_ylabel('Animatied Movies');\n",
    "plt.xticks(x);\n",
    "plt.savefig('graphs/Number_animated_movies.png')"
   ]
  },
  {
   "cell_type": "markdown",
   "metadata": {},
   "source": [
    "#### Find top grossing movies (excluded from prior data due to lack of budget)"
   ]
  },
  {
   "cell_type": "code",
   "execution_count": 46,
   "metadata": {},
   "outputs": [],
   "source": [
    "sorted_by_revenue=original_tmdb_by_revenue_df.sort_values(by=\"revenue\", ascending=False).head(10).reset_index(drop=True)\n"
   ]
  },
  {
   "cell_type": "code",
   "execution_count": 47,
   "metadata": {},
   "outputs": [],
   "source": [
    "Y=sorted_by_revenue.revenue\n",
    "X=sorted_by_revenue.title"
   ]
  },
  {
   "cell_type": "code",
   "execution_count": 48,
   "metadata": {},
   "outputs": [
    {
     "data": {
      "image/png": "[encoded data removed]",
      "text/plain": [
       "<Figure size 1728x576 with 1 Axes>"
      ]
     },
     "metadata": {
      "needs_background": "light"
     },
     "output_type": "display_data"
    }
   ],
   "source": [
    "figure, ax=plt.subplots(figsize=(24,8))\n",
    "ax.bar(X,Y/1e6)\n",
    "ax.set_title('Top Earning Animated Movies')\n",
    "ax.set_xlabel('Movies')\n",
    "ax.set_ylabel('Revenue in Millions');\n",
    "plt.savefig('graphs/top_earning_animated_movies.png')"
   ]
  },
  {
   "cell_type": "code",
   "execution_count": 49,
   "metadata": {},
   "outputs": [
    {
     "data": {
      "text/plain": [
       "count         386.00000\n",
       "mean     56430932.55959\n",
       "std      54405303.40099\n",
       "min         10000.00000\n",
       "25%      10000000.00000\n",
       "50%      39500000.00000\n",
       "75%      80000000.00000\n",
       "max     260000000.00000\n",
       "Name: budget, dtype: float64"
      ]
     },
     "execution_count": 49,
     "metadata": {},
     "output_type": "execute_result"
    }
   ],
   "source": [
    "tmdb_by_revenue_df['budget'].describe()"
   ]
  },
  {
   "cell_type": "markdown",
   "metadata": {},
   "source": [
    "### Top 10 Animated Movie Release by Studios"
   ]
  },
  {
   "cell_type": "code",
   "execution_count": 75,
   "metadata": {},
   "outputs": [],
   "source": [
    "Studio= pd.read_csv('Data/studio_file.csv')"
   ]
  },
  {
   "cell_type": "code",
   "execution_count": 76,
   "metadata": {},
   "outputs": [],
   "source": [
    "X1= Studio.groupby(\"studio\")[\"title\"].count().nlargest(10).index\n",
    "Y1= Studio.groupby(\"studio\")[\"title\"].count().nlargest(10)"
   ]
  },
  {
   "cell_type": "code",
   "execution_count": 77,
   "metadata": {
    "scrolled": true
   },
   "outputs": [
    {
     "data": {
      "image/png": "[encoded data removed]",
      "text/plain": [
       "<Figure size 1728x576 with 1 Axes>"
      ]
     },
     "metadata": {
      "needs_background": "light"
     },
     "output_type": "display_data"
    }
   ],
   "source": [
    "figure, ax=plt.subplots(figsize=(24,8))\n",
    "\n",
    "ax.bar(X1,Y1,color= 'r')\n",
    "ax.set_title('Animation Movies made by Different Companies Over the 10 Years Period')\n",
    "ax.set_xlabel('Companies')\n",
    "ax.set_ylabel('Animation Movies');"
   ]
  },
  {
   "cell_type": "markdown",
   "metadata": {},
   "source": [
    "### Finding average RunTime for each Movie"
   ]
  },
  {
   "cell_type": "code",
   "execution_count": 53,
   "metadata": {},
   "outputs": [],
   "source": [
    "df = pd.read_csv('Data/IMDB_With_Movie_Titles.csv')"
   ]
  },
  {
   "cell_type": "code",
   "execution_count": 54,
   "metadata": {},
   "outputs": [],
   "source": [
    "df_RunTime=df[['genres', 'start_year', 'runtime_minutes']]"
   ]
  },
  {
   "cell_type": "code",
   "execution_count": 55,
   "metadata": {},
   "outputs": [],
   "source": [
    "Y= df_RunTime.groupby(\"start_year\")[\"runtime_minutes\"].mean()\n",
    "X= df_RunTime.groupby(\"start_year\")[\"runtime_minutes\"].mean().index"
   ]
  },
  {
   "cell_type": "code",
   "execution_count": 56,
   "metadata": {},
   "outputs": [
    {
     "data": {
      "image/png": "[encoded data removed]",
      "text/plain": [
       "<Figure size 1080x432 with 1 Axes>"
      ]
     },
     "metadata": {
      "needs_background": "light"
     },
     "output_type": "display_data"
    }
   ],
   "source": [
    "figure, ax=plt.subplots(figsize=(15,6))\n",
    "ax.bar(X,Y)\n",
    "ax.set_title('Average of Animation Movie Run Time Minutes Over the 10 Years Period')\n",
    "ax.set_xlabel('Year')\n",
    "ax.set_ylabel('Run Time Minutes Average');"
   ]
  },
  {
   "cell_type": "markdown",
   "metadata": {},
   "source": [
    "# Appendix:"
   ]
  },
  {
   "cell_type": "markdown",
   "metadata": {},
   "source": [
    "## To Get TMDB API Results:"
   ]
  },
  {
   "cell_type": "markdown",
   "metadata": {},
   "source": [
    "#### We call the api asking for all titles with the genre id for Animation (16), sorted by revenue from greatest to least\n",
    "#### The first call will return only the first 20 results, along with the number of results and number of total pages, allowing us to iterate through calling all pages\n"
   ]
  },
  {
   "cell_type": "code",
   "execution_count": 57,
   "metadata": {},
   "outputs": [],
   "source": [
    "# first_call = requests.get('https://api.themoviedb.org/3/discover/movie?api_key=' +  api_key + '&with_genres=16&sort_by=revenue.desc')\n",
    "# num_pages = first_call.json()['total_pages']"
   ]
  },
  {
   "cell_type": "code",
   "execution_count": 58,
   "metadata": {},
   "outputs": [],
   "source": [
    "# def call_TMDB_api(page):\n",
    "#     return requests.get('https://api.themoviedb.org/3/discover/movie?api_key=' +  api_key + '&with_genres=16&sort_by=revenue.desc&page='+ page).json()['results']"
   ]
  },
  {
   "cell_type": "code",
   "execution_count": 59,
   "metadata": {},
   "outputs": [],
   "source": [
    "# results = []\n",
    "# for i in range(num_pages):\n",
    "#     results += call_TMDB_api(str(i+1))"
   ]
  },
  {
   "cell_type": "markdown",
   "metadata": {},
   "source": [
    "#### Once we have all 10,000 title results, we do another api call to get details for each title"
   ]
  },
  {
   "cell_type": "code",
   "execution_count": 60,
   "metadata": {},
   "outputs": [],
   "source": [
    "# def turn_response_into_list(response):\n",
    "#     details = []\n",
    "#     for movie in response:\n",
    "#         details.append(requests.get('https://api.themoviedb.org/3/movie/'+ str(movie['id']) +'?api_key='+ api_key).json())\n",
    "#     return details"
   ]
  },
  {
   "cell_type": "code",
   "execution_count": 61,
   "metadata": {},
   "outputs": [],
   "source": [
    "# THIS TAKES 23 MINUTES TO RUN!!!!\n",
    "\n",
    "# results_by_rev = turn_response_into_list(results)"
   ]
  },
  {
   "cell_type": "markdown",
   "metadata": {},
   "source": [
    "#### Test to make sure results from API are consistent:"
   ]
  },
  {
   "cell_type": "code",
   "execution_count": 62,
   "metadata": {},
   "outputs": [],
   "source": [
    "# THIS TAKES 23 MINUTES TO RUN!!!!\n",
    "\n",
    "# compare_results_by_rev = turn_response_into_list(results)"
   ]
  },
  {
   "cell_type": "code",
   "execution_count": 63,
   "metadata": {},
   "outputs": [],
   "source": [
    "# compare_results_by_rev == results_by_rev\n",
    "# *returned True*"
   ]
  },
  {
   "cell_type": "code",
   "execution_count": 64,
   "metadata": {},
   "outputs": [],
   "source": [
    "# keys = all_movies[1].keys()"
   ]
  },
  {
   "cell_type": "code",
   "execution_count": 65,
   "metadata": {},
   "outputs": [],
   "source": [
    "# tmdb_data_by_revenue = pd.DataFrame(results_by_rev, columns = keys)"
   ]
  },
  {
   "cell_type": "code",
   "execution_count": 66,
   "metadata": {},
   "outputs": [],
   "source": [
    "# tmdb_data_by_revenue.to_csv('tmdb_animation_by_revenue.csv')"
   ]
  },
  {
   "cell_type": "markdown",
   "metadata": {},
   "source": [
    "# WEBSCRAPING TEST (for future investigations)"
   ]
  },
  {
   "cell_type": "markdown",
   "metadata": {},
   "source": [
    "#### Create a sample of our current observations to test supplementing with webscraping"
   ]
  },
  {
   "cell_type": "code",
   "execution_count": 67,
   "metadata": {},
   "outputs": [],
   "source": [
    "# test_ids = tmdb_df.loc[4100:4200].imdb_id\n",
    "# test_ids = test_ids.dropna()"
   ]
  },
  {
   "cell_type": "markdown",
   "metadata": {},
   "source": [
    "#### scraping function"
   ]
  },
  {
   "cell_type": "code",
   "execution_count": 68,
   "metadata": {},
   "outputs": [],
   "source": [
    "# def scrape_budget(imdb_id):\n",
    "#     url = 'https://www.imdb.com/title/'\n",
    "#     html_page = requests.get(url+imdb_id)\n",
    "#     soup = BeautifulSoup(html_page.content, 'html.parser')\n",
    "#     details = soup.find('div', id=\"titleDetails\")\n",
    "#     budget = details.find(text=re.compile('Budget:'))\n",
    "#     try:\n",
    "#       return budget.parent.parent.contents[2]\n",
    "#     except:\n",
    "#       return \"0\""
   ]
  },
  {
   "cell_type": "markdown",
   "metadata": {},
   "source": [
    "#### get results"
   ]
  },
  {
   "cell_type": "code",
   "execution_count": 69,
   "metadata": {},
   "outputs": [],
   "source": [
    "# results = []\n",
    "# for id in test_ids:\n",
    "#     results.append(scrape_budget(id))"
   ]
  },
  {
   "cell_type": "markdown",
   "metadata": {},
   "source": [
    "#### compare results to originals"
   ]
  },
  {
   "cell_type": "code",
   "execution_count": 70,
   "metadata": {},
   "outputs": [],
   "source": [
    "# for budget in tmdb_df.loc[4100:4200].budget:\n",
    "#     print(budget)"
   ]
  },
  {
   "cell_type": "code",
   "execution_count": 71,
   "metadata": {},
   "outputs": [],
   "source": [
    "# for budget in tmdb_df.loc[4100:4200].budgets:\n",
    "#     print(budget)"
   ]
  }
 ],
 "metadata": {
  "kernelspec": {
   "display_name": "learn-env",
   "language": "python",
   "name": "learn-env"
  },
  "language_info": {
   "codemirror_mode": {
    "name": "ipython",
    "version": 3
   },
   "file_extension": ".py",
   "mimetype": "text/x-python",
   "name": "python",
   "nbconvert_exporter": "python",
   "pygments_lexer": "ipython3",
   "version": "3.6.9"
  }
 },
 "nbformat": 4,
 "nbformat_minor": 2
}
