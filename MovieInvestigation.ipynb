{
 "cells": [
  {
   "cell_type": "code",
   "execution_count": 318,
   "metadata": {},
   "outputs": [],
   "source": [
    "import pandas as pd\n",
    "import numpy as np\n",
    "import matplotlib.pyplot as plt\n",
    "import seaborn as sns\n",
    "import config\n",
    "api_key = config.api_key\n",
    "import requests\n",
    "from bs4 import BeautifulSoup\n",
    "import re\n",
    "import datetime\n",
    "\n",
    "\n",
    "# remove scientific notation display for floats\n",
    "pd.set_option('display.float_format', lambda x: '%.5f' % x)"
   ]
  },
  {
   "cell_type": "markdown",
   "metadata": {},
   "source": [
    "# WEBSCRAPPING TEST"
   ]
  },
  {
   "cell_type": "code",
   "execution_count": 269,
   "metadata": {},
   "outputs": [],
   "source": [
    "test_ids = tmdb_df.loc[4100:4200].imdb_id"
   ]
  },
  {
   "cell_type": "code",
   "execution_count": 270,
   "metadata": {},
   "outputs": [],
   "source": [
    "test_ids = test_ids.dropna()"
   ]
  },
  {
   "cell_type": "code",
   "execution_count": 271,
   "metadata": {},
   "outputs": [],
   "source": [
    "def scrape_budget(imdb_id):\n",
    "    url = 'https://www.imdb.com/title/'\n",
    "    html_page = requests.get(url+imdb_id)\n",
    "    soup = BeautifulSoup(html_page.content, 'html.parser')\n",
    "    details = soup.find('div', id=\"titleDetails\")\n",
    "    budget = details.find(text=re.compile('Budget:'))\n",
    "    try:\n",
    "      return budget.parent.parent.contents[2]\n",
    "    except:\n",
    "      return \"0\"\n",
    "results = []\n",
    "for id in test_ids:\n",
    "    results.append(scrape_budget(id))"
   ]
  },
  {
   "cell_type": "code",
   "execution_count": 272,
   "metadata": {},
   "outputs": [
    {
     "data": {
      "text/plain": [
       "['0',\n",
       " '0',\n",
       " '0',\n",
       " '0',\n",
       " '0',\n",
       " '0',\n",
       " '0',\n",
       " '0',\n",
       " '0',\n",
       " '0',\n",
       " '0',\n",
       " '0',\n",
       " '$8,000,000\\n            ',\n",
       " '0',\n",
       " '0',\n",
       " '0',\n",
       " '0',\n",
       " '0',\n",
       " '0',\n",
       " '0',\n",
       " '0',\n",
       " '0',\n",
       " '0',\n",
       " '0',\n",
       " '0',\n",
       " '0',\n",
       " '0',\n",
       " '0',\n",
       " '0',\n",
       " '0',\n",
       " '0',\n",
       " '0',\n",
       " '0',\n",
       " '0',\n",
       " '0',\n",
       " '0',\n",
       " '0',\n",
       " '0',\n",
       " '0',\n",
       " '0',\n",
       " '0',\n",
       " '0',\n",
       " 'EUR15,000,000\\n            ',\n",
       " '0',\n",
       " '0',\n",
       " '0',\n",
       " '0',\n",
       " '0',\n",
       " '0',\n",
       " '0',\n",
       " '0',\n",
       " '0',\n",
       " '0',\n",
       " '0',\n",
       " 'EUR17,500,000\\n            ',\n",
       " '0',\n",
       " '0',\n",
       " '0',\n",
       " '0',\n",
       " '0',\n",
       " '0',\n",
       " '0',\n",
       " '0',\n",
       " '0',\n",
       " '0',\n",
       " '0',\n",
       " '0',\n",
       " '0',\n",
       " '0',\n",
       " '0',\n",
       " '0',\n",
       " '0',\n",
       " '0',\n",
       " '0',\n",
       " '0',\n",
       " '0',\n",
       " '0',\n",
       " '0',\n",
       " '0',\n",
       " '0',\n",
       " '0',\n",
       " '0',\n",
       " '0',\n",
       " '0',\n",
       " '0',\n",
       " '0',\n",
       " '0',\n",
       " '$100,000\\n            ',\n",
       " '0',\n",
       " '0',\n",
       " '0',\n",
       " '0',\n",
       " '0',\n",
       " '0']"
      ]
     },
     "execution_count": 272,
     "metadata": {},
     "output_type": "execute_result"
    }
   ],
   "source": [
    "results"
   ]
  },
  {
   "cell_type": "code",
   "execution_count": 273,
   "metadata": {},
   "outputs": [
    {
     "name": "stdout",
     "output_type": "stream",
     "text": [
      "0.0\n",
      "0.0\n",
      "0.0\n",
      "0.0\n",
      "0.0\n",
      "0.0\n",
      "0.0\n",
      "0.0\n",
      "0.0\n",
      "0.0\n",
      "14947.0\n",
      "0.0\n",
      "8000000.0\n",
      "0.0\n",
      "0.0\n",
      "0.0\n",
      "0.0\n",
      "0.0\n",
      "0.0\n",
      "0.0\n",
      "0.0\n",
      "0.0\n",
      "0.0\n",
      "0.0\n",
      "0.0\n",
      "0.0\n",
      "0.0\n",
      "0.0\n",
      "0.0\n",
      "0.0\n",
      "0.0\n",
      "0.0\n",
      "0.0\n",
      "0.0\n",
      "0.0\n",
      "0.0\n",
      "0.0\n",
      "0.0\n",
      "0.0\n",
      "0.0\n",
      "0.0\n",
      "0.0\n",
      "0.0\n",
      "0.0\n",
      "0.0\n",
      "0.0\n",
      "0.0\n",
      "0.0\n",
      "0.0\n",
      "0.0\n",
      "0.0\n",
      "0.0\n",
      "878028.0\n",
      "0.0\n",
      "0.0\n",
      "0.0\n",
      "0.0\n",
      "0.0\n",
      "1862300.0\n",
      "0.0\n",
      "0.0\n",
      "0.0\n",
      "0.0\n",
      "0.0\n",
      "0.0\n",
      "0.0\n",
      "0.0\n",
      "8772.0\n",
      "0.0\n",
      "0.0\n",
      "0.0\n",
      "0.0\n",
      "3700000.0\n",
      "0.0\n",
      "0.0\n",
      "0.0\n",
      "0.0\n",
      "0.0\n",
      "0.0\n",
      "0.0\n",
      "0.0\n",
      "0.0\n",
      "0.0\n",
      "0.0\n",
      "0.0\n",
      "0.0\n",
      "0.0\n",
      "0.0\n",
      "0.0\n",
      "0.0\n",
      "0.0\n",
      "0.0\n",
      "0.0\n",
      "0.0\n",
      "0.0\n",
      "0.0\n",
      "0.0\n",
      "0.0\n",
      "0.0\n",
      "0.0\n",
      "0.0\n"
     ]
    }
   ],
   "source": [
    "for bud in tmdb_df.loc[4100:4200].budget:\n",
    "    print(bud)"
   ]
  },
  {
   "cell_type": "markdown",
   "metadata": {},
   "source": [
    "Testing scm_breeze again\n"
   ]
  },
  {
   "cell_type": "markdown",
   "metadata": {},
   "source": [
    "# Data Sources and Notes:"
   ]
  },
  {
   "cell_type": "markdown",
   "metadata": {},
   "source": [
    "## Box Office Mojo"
   ]
  },
  {
   "cell_type": "markdown",
   "metadata": {},
   "source": [
    "### Box Office Mojo movie grosses"
   ]
  },
  {
   "cell_type": "code",
   "execution_count": 3,
   "metadata": {},
   "outputs": [
    {
     "name": "stdout",
     "output_type": "stream",
     "text": [
      "<class 'pandas.core.frame.DataFrame'>\n",
      "RangeIndex: 3387 entries, 0 to 3386\n",
      "Data columns (total 5 columns):\n",
      "title             3387 non-null object\n",
      "studio            3382 non-null object\n",
      "domestic_gross    3359 non-null float64\n",
      "foreign_gross     2037 non-null object\n",
      "year              3387 non-null int64\n",
      "dtypes: float64(1), int64(1), object(3)\n",
      "memory usage: 132.4+ KB\n"
     ]
    }
   ],
   "source": [
    "#read data\n",
    "gross_bom = pd.read_csv('zippedData/bom.movie_gross.csv.gz', compression='gzip')\n",
    "gross_bom.info()"
   ]
  },
  {
   "cell_type": "markdown",
   "metadata": {},
   "source": [
    "## Note: Not all movies have information for foreign gross earnings. To suplement foreign gross when not available we will use the ratio of the average (median) domestic to foreign gross, and then make a column for total gross earnings"
   ]
  },
  {
   "cell_type": "code",
   "execution_count": 4,
   "metadata": {},
   "outputs": [],
   "source": [
    "# Foreign Gross is a string accounting for NaN.\n",
    "# Creating foreign_release column in order to create expected foreign gross column.\n",
    "gross_bom['no_foreign_release'] = gross_bom.foreign_gross.map(lambda x : pd.isnull(x))"
   ]
  },
  {
   "cell_type": "code",
   "execution_count": 5,
   "metadata": {},
   "outputs": [
    {
     "name": "stdout",
     "output_type": "stream",
     "text": [
      "False    2037\n",
      "True     1350\n",
      "Name: no_foreign_release, dtype: int64\n"
     ]
    },
    {
     "data": {
      "text/plain": [
       "1350"
      ]
     },
     "execution_count": 5,
     "metadata": {},
     "output_type": "execute_result"
    }
   ],
   "source": [
    "print(gross_bom['no_foreign_release'].value_counts())\n",
    "gross_bom.foreign_gross.isna().sum()"
   ]
  },
  {
   "cell_type": "code",
   "execution_count": 6,
   "metadata": {},
   "outputs": [],
   "source": [
    "# remove na rows from foreign_gross in order to calculate stats\n",
    "no_na_foreign_gross = gross_bom.dropna(axis= 0, subset=['foreign_gross'])"
   ]
  },
  {
   "cell_type": "code",
   "execution_count": 7,
   "metadata": {},
   "outputs": [
    {
     "name": "stderr",
     "output_type": "stream",
     "text": [
      "/Users/kevinevans/opt/anaconda3/envs/learn-env/lib/python3.6/site-packages/pandas/core/generic.py:5208: SettingWithCopyWarning: \n",
      "A value is trying to be set on a copy of a slice from a DataFrame.\n",
      "Try using .loc[row_indexer,col_indexer] = value instead\n",
      "\n",
      "See the caveats in the documentation: http://pandas.pydata.org/pandas-docs/stable/user_guide/indexing.html#returning-a-view-versus-a-copy\n",
      "  self[name] = value\n"
     ]
    }
   ],
   "source": [
    "# remove comma from string then convert to int\n",
    "no_na_foreign_gross.foreign_gross = no_na_foreign_gross.foreign_gross.map(lambda val : int(float(val.replace(\",\", \"\"))))"
   ]
  },
  {
   "cell_type": "code",
   "execution_count": 8,
   "metadata": {},
   "outputs": [
    {
     "data": {
      "text/html": [
       "<div>\n",
       "<style scoped>\n",
       "    .dataframe tbody tr th:only-of-type {\n",
       "        vertical-align: middle;\n",
       "    }\n",
       "\n",
       "    .dataframe tbody tr th {\n",
       "        vertical-align: top;\n",
       "    }\n",
       "\n",
       "    .dataframe thead th {\n",
       "        text-align: right;\n",
       "    }\n",
       "</style>\n",
       "<table border=\"1\" class=\"dataframe\">\n",
       "  <thead>\n",
       "    <tr style=\"text-align: right;\">\n",
       "      <th></th>\n",
       "      <th>domestic_gross</th>\n",
       "      <th>foreign_gross</th>\n",
       "      <th>year</th>\n",
       "      <th>no_foreign_release</th>\n",
       "    </tr>\n",
       "  </thead>\n",
       "  <tbody>\n",
       "    <tr>\n",
       "      <td>mean</td>\n",
       "      <td>46973114.37780</td>\n",
       "      <td>74872810.14973</td>\n",
       "      <td>2013.49288</td>\n",
       "      <td>0.00000</td>\n",
       "    </tr>\n",
       "    <tr>\n",
       "      <td>median</td>\n",
       "      <td>16500000.00000</td>\n",
       "      <td>18700000.00000</td>\n",
       "      <td>2013.00000</td>\n",
       "      <td>0.00000</td>\n",
       "    </tr>\n",
       "    <tr>\n",
       "      <td>std</td>\n",
       "      <td>81599661.10596</td>\n",
       "      <td>137410600.84191</td>\n",
       "      <td>2.59241</td>\n",
       "      <td>0.00000</td>\n",
       "    </tr>\n",
       "  </tbody>\n",
       "</table>\n",
       "</div>"
      ],
      "text/plain": [
       "        domestic_gross   foreign_gross       year  no_foreign_release\n",
       "mean    46973114.37780  74872810.14973 2013.49288             0.00000\n",
       "median  16500000.00000  18700000.00000 2013.00000             0.00000\n",
       "std     81599661.10596 137410600.84191    2.59241             0.00000"
      ]
     },
     "execution_count": 8,
     "metadata": {},
     "output_type": "execute_result"
    }
   ],
   "source": [
    "no_na_foreign_gross.agg(['mean', 'median', 'std'])"
   ]
  },
  {
   "cell_type": "code",
   "execution_count": 9,
   "metadata": {},
   "outputs": [
    {
     "data": {
      "text/plain": [
       "0.6273721299342642"
      ]
     },
     "execution_count": 9,
     "metadata": {},
     "output_type": "execute_result"
    }
   ],
   "source": [
    "# find ratio of domestic to foreign mean\n",
    "no_na_foreign_gross.domestic_gross.mean()/no_na_foreign_gross.foreign_gross.mean()"
   ]
  },
  {
   "cell_type": "code",
   "execution_count": 10,
   "metadata": {},
   "outputs": [
    {
     "data": {
      "text/plain": [
       "0.8823529411764706"
      ]
     },
     "execution_count": 10,
     "metadata": {},
     "output_type": "execute_result"
    }
   ],
   "source": [
    "# find ratio of domestic to foreign median\n",
    "no_na_foreign_gross.domestic_gross.median()/no_na_foreign_gross.foreign_gross.median()"
   ]
  },
  {
   "cell_type": "code",
   "execution_count": 11,
   "metadata": {},
   "outputs": [],
   "source": [
    "# set foreign_gross na's to 0 in order to do arithmetic operations\n",
    "gross_bom.foreign_gross.fillna(\"0\", inplace=True)"
   ]
  },
  {
   "cell_type": "code",
   "execution_count": 12,
   "metadata": {},
   "outputs": [],
   "source": [
    "# convert foreign_gross strings to int\n",
    "gross_bom.foreign_gross = gross_bom.foreign_gross.map(lambda val : int(float(val.replace(\",\", \"\"))))"
   ]
  },
  {
   "cell_type": "code",
   "execution_count": 13,
   "metadata": {},
   "outputs": [],
   "source": [
    "no_na_data = {'dom_median': no_na_foreign_gross.domestic_gross.median(), 'foreign_median': no_na_foreign_gross.foreign_gross.median()}"
   ]
  },
  {
   "cell_type": "code",
   "execution_count": 14,
   "metadata": {},
   "outputs": [],
   "source": [
    "def total_gross(no_foreign_release, domestic_gross, foreign_gross):\n",
    "    if no_foreign_release:\n",
    "        return domestic_gross*(no_na_data['foreign_median']/no_na_data['dom_median'])\n",
    "    else:\n",
    "        return domestic_gross + foreign_gross"
   ]
  },
  {
   "cell_type": "code",
   "execution_count": 15,
   "metadata": {},
   "outputs": [],
   "source": [
    "gross_bom['total_gross'] = gross_bom.apply(lambda row : total_gross(row.no_foreign_release, row.domestic_gross, row.foreign_gross), axis=1)"
   ]
  },
  {
   "cell_type": "code",
   "execution_count": 16,
   "metadata": {},
   "outputs": [
    {
     "data": {
      "text/html": [
       "<div>\n",
       "<style scoped>\n",
       "    .dataframe tbody tr th:only-of-type {\n",
       "        vertical-align: middle;\n",
       "    }\n",
       "\n",
       "    .dataframe tbody tr th {\n",
       "        vertical-align: top;\n",
       "    }\n",
       "\n",
       "    .dataframe thead th {\n",
       "        text-align: right;\n",
       "    }\n",
       "</style>\n",
       "<table border=\"1\" class=\"dataframe\">\n",
       "  <thead>\n",
       "    <tr style=\"text-align: right;\">\n",
       "      <th></th>\n",
       "      <th>title</th>\n",
       "      <th>studio</th>\n",
       "      <th>domestic_gross</th>\n",
       "      <th>foreign_gross</th>\n",
       "      <th>year</th>\n",
       "      <th>no_foreign_release</th>\n",
       "      <th>total_gross</th>\n",
       "    </tr>\n",
       "  </thead>\n",
       "  <tbody>\n",
       "    <tr>\n",
       "      <td>222</td>\n",
       "      <td>Flipped</td>\n",
       "      <td>WB</td>\n",
       "      <td>1800000.00000</td>\n",
       "      <td>0</td>\n",
       "      <td>2010</td>\n",
       "      <td>True</td>\n",
       "      <td>2040000.00000</td>\n",
       "    </tr>\n",
       "    <tr>\n",
       "      <td>254</td>\n",
       "      <td>The Polar Express (IMAX re-issue 2010)</td>\n",
       "      <td>WB</td>\n",
       "      <td>673000.00000</td>\n",
       "      <td>0</td>\n",
       "      <td>2010</td>\n",
       "      <td>True</td>\n",
       "      <td>762733.33333</td>\n",
       "    </tr>\n",
       "    <tr>\n",
       "      <td>267</td>\n",
       "      <td>Tiny Furniture</td>\n",
       "      <td>IFC</td>\n",
       "      <td>392000.00000</td>\n",
       "      <td>0</td>\n",
       "      <td>2010</td>\n",
       "      <td>True</td>\n",
       "      <td>444266.66667</td>\n",
       "    </tr>\n",
       "    <tr>\n",
       "      <td>269</td>\n",
       "      <td>Grease (Sing-a-Long re-issue)</td>\n",
       "      <td>Par.</td>\n",
       "      <td>366000.00000</td>\n",
       "      <td>0</td>\n",
       "      <td>2010</td>\n",
       "      <td>True</td>\n",
       "      <td>414800.00000</td>\n",
       "    </tr>\n",
       "    <tr>\n",
       "      <td>280</td>\n",
       "      <td>Last Train Home</td>\n",
       "      <td>Zeit.</td>\n",
       "      <td>288000.00000</td>\n",
       "      <td>0</td>\n",
       "      <td>2010</td>\n",
       "      <td>True</td>\n",
       "      <td>326400.00000</td>\n",
       "    </tr>\n",
       "  </tbody>\n",
       "</table>\n",
       "</div>"
      ],
      "text/plain": [
       "                                      title studio  domestic_gross  \\\n",
       "222                                 Flipped     WB   1800000.00000   \n",
       "254  The Polar Express (IMAX re-issue 2010)     WB    673000.00000   \n",
       "267                          Tiny Furniture    IFC    392000.00000   \n",
       "269           Grease (Sing-a-Long re-issue)   Par.    366000.00000   \n",
       "280                         Last Train Home  Zeit.    288000.00000   \n",
       "\n",
       "     foreign_gross  year  no_foreign_release   total_gross  \n",
       "222              0  2010                True 2040000.00000  \n",
       "254              0  2010                True  762733.33333  \n",
       "267              0  2010                True  444266.66667  \n",
       "269              0  2010                True  414800.00000  \n",
       "280              0  2010                True  326400.00000  "
      ]
     },
     "execution_count": 16,
     "metadata": {},
     "output_type": "execute_result"
    }
   ],
   "source": [
    "gross_bom.loc[gross_bom.no_foreign_release == True].head()"
   ]
  },
  {
   "cell_type": "markdown",
   "metadata": {},
   "source": [
    "# <span style=\"color:blue\"> Done: Make total gross column </span>"
   ]
  },
  {
   "cell_type": "markdown",
   "metadata": {},
   "source": [
    "## IMDB\n",
    "Note: foreign keys look like nconst is for Person Name, and tconst is for Movie Title"
   ]
  },
  {
   "cell_type": "markdown",
   "metadata": {},
   "source": [
    "### IMDB Basic info by Name"
   ]
  },
  {
   "cell_type": "code",
   "execution_count": 17,
   "metadata": {},
   "outputs": [
    {
     "data": {
      "text/html": [
       "<div>\n",
       "<style scoped>\n",
       "    .dataframe tbody tr th:only-of-type {\n",
       "        vertical-align: middle;\n",
       "    }\n",
       "\n",
       "    .dataframe tbody tr th {\n",
       "        vertical-align: top;\n",
       "    }\n",
       "\n",
       "    .dataframe thead th {\n",
       "        text-align: right;\n",
       "    }\n",
       "</style>\n",
       "<table border=\"1\" class=\"dataframe\">\n",
       "  <thead>\n",
       "    <tr style=\"text-align: right;\">\n",
       "      <th></th>\n",
       "      <th>nconst</th>\n",
       "      <th>primary_name</th>\n",
       "      <th>birth_year</th>\n",
       "      <th>death_year</th>\n",
       "      <th>primary_profession</th>\n",
       "      <th>known_for_titles</th>\n",
       "    </tr>\n",
       "  </thead>\n",
       "  <tbody>\n",
       "    <tr>\n",
       "      <td>0</td>\n",
       "      <td>nm0061671</td>\n",
       "      <td>Mary Ellen Bauder</td>\n",
       "      <td>nan</td>\n",
       "      <td>nan</td>\n",
       "      <td>miscellaneous,production_manager,producer</td>\n",
       "      <td>tt0837562,tt2398241,tt0844471,tt0118553</td>\n",
       "    </tr>\n",
       "  </tbody>\n",
       "</table>\n",
       "</div>"
      ],
      "text/plain": [
       "      nconst       primary_name  birth_year  death_year  \\\n",
       "0  nm0061671  Mary Ellen Bauder         nan         nan   \n",
       "\n",
       "                          primary_profession  \\\n",
       "0  miscellaneous,production_manager,producer   \n",
       "\n",
       "                          known_for_titles  \n",
       "0  tt0837562,tt2398241,tt0844471,tt0118553  "
      ]
     },
     "execution_count": 17,
     "metadata": {},
     "output_type": "execute_result"
    }
   ],
   "source": [
    "name_basics_imdb = pd.read_csv('zippedData/imdb.name.basics.csv.gz', compression='gzip')\n",
    "name_basics_imdb.head(1)"
   ]
  },
  {
   "cell_type": "markdown",
   "metadata": {},
   "source": [
    "### IMDB some kind of info by Title\n",
    "# <span style=\"color:red\"> I think this is related to international releases? I can't tell yet </span>"
   ]
  },
  {
   "cell_type": "code",
   "execution_count": 18,
   "metadata": {},
   "outputs": [
    {
     "data": {
      "text/html": [
       "<div>\n",
       "<style scoped>\n",
       "    .dataframe tbody tr th:only-of-type {\n",
       "        vertical-align: middle;\n",
       "    }\n",
       "\n",
       "    .dataframe tbody tr th {\n",
       "        vertical-align: top;\n",
       "    }\n",
       "\n",
       "    .dataframe thead th {\n",
       "        text-align: right;\n",
       "    }\n",
       "</style>\n",
       "<table border=\"1\" class=\"dataframe\">\n",
       "  <thead>\n",
       "    <tr style=\"text-align: right;\">\n",
       "      <th></th>\n",
       "      <th>title_id</th>\n",
       "      <th>ordering</th>\n",
       "      <th>title</th>\n",
       "      <th>region</th>\n",
       "      <th>language</th>\n",
       "      <th>types</th>\n",
       "      <th>attributes</th>\n",
       "      <th>is_original_title</th>\n",
       "    </tr>\n",
       "  </thead>\n",
       "  <tbody>\n",
       "    <tr>\n",
       "      <td>0</td>\n",
       "      <td>tt0369610</td>\n",
       "      <td>10</td>\n",
       "      <td>Джурасик свят</td>\n",
       "      <td>BG</td>\n",
       "      <td>bg</td>\n",
       "      <td>NaN</td>\n",
       "      <td>NaN</td>\n",
       "      <td>0.00000</td>\n",
       "    </tr>\n",
       "    <tr>\n",
       "      <td>1</td>\n",
       "      <td>tt0369610</td>\n",
       "      <td>11</td>\n",
       "      <td>Jurashikku warudo</td>\n",
       "      <td>JP</td>\n",
       "      <td>NaN</td>\n",
       "      <td>imdbDisplay</td>\n",
       "      <td>NaN</td>\n",
       "      <td>0.00000</td>\n",
       "    </tr>\n",
       "  </tbody>\n",
       "</table>\n",
       "</div>"
      ],
      "text/plain": [
       "    title_id  ordering              title region language        types  \\\n",
       "0  tt0369610        10      Джурасик свят     BG       bg          NaN   \n",
       "1  tt0369610        11  Jurashikku warudo     JP      NaN  imdbDisplay   \n",
       "\n",
       "  attributes  is_original_title  \n",
       "0        NaN            0.00000  \n",
       "1        NaN            0.00000  "
      ]
     },
     "execution_count": 18,
     "metadata": {},
     "output_type": "execute_result"
    }
   ],
   "source": [
    "title_imdb = pd.read_csv('zippedData/imdb.title.akas.csv.gz', compression='gzip')\n",
    "title_imdb.head(2)"
   ]
  },
  {
   "cell_type": "markdown",
   "metadata": {},
   "source": [
    "### IMDB Basic info by Title"
   ]
  },
  {
   "cell_type": "code",
   "execution_count": 19,
   "metadata": {},
   "outputs": [
    {
     "data": {
      "text/html": [
       "<div>\n",
       "<style scoped>\n",
       "    .dataframe tbody tr th:only-of-type {\n",
       "        vertical-align: middle;\n",
       "    }\n",
       "\n",
       "    .dataframe tbody tr th {\n",
       "        vertical-align: top;\n",
       "    }\n",
       "\n",
       "    .dataframe thead th {\n",
       "        text-align: right;\n",
       "    }\n",
       "</style>\n",
       "<table border=\"1\" class=\"dataframe\">\n",
       "  <thead>\n",
       "    <tr style=\"text-align: right;\">\n",
       "      <th></th>\n",
       "      <th>tconst</th>\n",
       "      <th>primary_title</th>\n",
       "      <th>original_title</th>\n",
       "      <th>start_year</th>\n",
       "      <th>runtime_minutes</th>\n",
       "      <th>genres</th>\n",
       "    </tr>\n",
       "  </thead>\n",
       "  <tbody>\n",
       "    <tr>\n",
       "      <td>0</td>\n",
       "      <td>tt0063540</td>\n",
       "      <td>Sunghursh</td>\n",
       "      <td>Sunghursh</td>\n",
       "      <td>2013</td>\n",
       "      <td>175.00000</td>\n",
       "      <td>Action,Crime,Drama</td>\n",
       "    </tr>\n",
       "  </tbody>\n",
       "</table>\n",
       "</div>"
      ],
      "text/plain": [
       "      tconst primary_title original_title  start_year  runtime_minutes  \\\n",
       "0  tt0063540     Sunghursh      Sunghursh        2013        175.00000   \n",
       "\n",
       "               genres  \n",
       "0  Action,Crime,Drama  "
      ]
     },
     "execution_count": 19,
     "metadata": {},
     "output_type": "execute_result"
    }
   ],
   "source": [
    "title_basics_imdb = pd.read_csv('zippedData/imdb.title.basics.csv.gz', compression='gzip')\n",
    "title_basics_imdb.head(1)"
   ]
  },
  {
   "cell_type": "markdown",
   "metadata": {},
   "source": [
    "### Remove NaN rows from genres (as we are only looking at Animated films, we are not concerned with losing the data)"
   ]
  },
  {
   "cell_type": "code",
   "execution_count": 20,
   "metadata": {},
   "outputs": [],
   "source": [
    "title_basics_imdb.dropna(axis= 0, subset=['genres'], inplace=True)"
   ]
  },
  {
   "cell_type": "code",
   "execution_count": 21,
   "metadata": {},
   "outputs": [],
   "source": [
    "title_basics_imdb['is_animated'] = title_basics_imdb.apply(lambda row : 'Animation' in row.genres, axis=1)"
   ]
  },
  {
   "cell_type": "markdown",
   "metadata": {},
   "source": [
    "## Create Animated Films DF"
   ]
  },
  {
   "cell_type": "code",
   "execution_count": 22,
   "metadata": {},
   "outputs": [],
   "source": [
    "animated_films_df = title_basics_imdb.loc[title_basics_imdb['is_animated'] == True]"
   ]
  },
  {
   "cell_type": "code",
   "execution_count": 23,
   "metadata": {
    "scrolled": true
   },
   "outputs": [
    {
     "data": {
      "text/plain": [
       "2799"
      ]
     },
     "execution_count": 23,
     "metadata": {},
     "output_type": "execute_result"
    }
   ],
   "source": [
    "len(animated_films_df)"
   ]
  },
  {
   "cell_type": "markdown",
   "metadata": {},
   "source": [
    "## Create non-animated films for comparison"
   ]
  },
  {
   "cell_type": "code",
   "execution_count": 24,
   "metadata": {},
   "outputs": [],
   "source": [
    "non_animated_films_df = title_basics_imdb.loc[title_basics_imdb['is_animated'] == False]"
   ]
  },
  {
   "cell_type": "code",
   "execution_count": 25,
   "metadata": {},
   "outputs": [
    {
     "data": {
      "text/plain": [
       "137937"
      ]
     },
     "execution_count": 25,
     "metadata": {},
     "output_type": "execute_result"
    }
   ],
   "source": [
    "len(non_animated_films_df)"
   ]
  },
  {
   "cell_type": "markdown",
   "metadata": {},
   "source": [
    "### IMDB Crew (Writers and Directors)\n",
    "This looks to be a connecting table"
   ]
  },
  {
   "cell_type": "code",
   "execution_count": 26,
   "metadata": {},
   "outputs": [
    {
     "data": {
      "text/html": [
       "<div>\n",
       "<style scoped>\n",
       "    .dataframe tbody tr th:only-of-type {\n",
       "        vertical-align: middle;\n",
       "    }\n",
       "\n",
       "    .dataframe tbody tr th {\n",
       "        vertical-align: top;\n",
       "    }\n",
       "\n",
       "    .dataframe thead th {\n",
       "        text-align: right;\n",
       "    }\n",
       "</style>\n",
       "<table border=\"1\" class=\"dataframe\">\n",
       "  <thead>\n",
       "    <tr style=\"text-align: right;\">\n",
       "      <th></th>\n",
       "      <th>tconst</th>\n",
       "      <th>directors</th>\n",
       "      <th>writers</th>\n",
       "    </tr>\n",
       "  </thead>\n",
       "  <tbody>\n",
       "    <tr>\n",
       "      <td>0</td>\n",
       "      <td>tt0285252</td>\n",
       "      <td>nm0899854</td>\n",
       "      <td>nm0899854</td>\n",
       "    </tr>\n",
       "  </tbody>\n",
       "</table>\n",
       "</div>"
      ],
      "text/plain": [
       "      tconst  directors    writers\n",
       "0  tt0285252  nm0899854  nm0899854"
      ]
     },
     "execution_count": 26,
     "metadata": {},
     "output_type": "execute_result"
    }
   ],
   "source": [
    "crew_imdb = pd.read_csv('zippedData/imdb.title.crew.csv.gz', compression='gzip')\n",
    "crew_imdb.head(1)"
   ]
  },
  {
   "cell_type": "markdown",
   "metadata": {},
   "source": [
    "### IMDB Principles\n",
    "(Actors, directors, producers, editors, actress, composer, cinematographer, writer, self, production designer, archive footage, archive sound )"
   ]
  },
  {
   "cell_type": "code",
   "execution_count": 27,
   "metadata": {},
   "outputs": [
    {
     "data": {
      "text/html": [
       "<div>\n",
       "<style scoped>\n",
       "    .dataframe tbody tr th:only-of-type {\n",
       "        vertical-align: middle;\n",
       "    }\n",
       "\n",
       "    .dataframe tbody tr th {\n",
       "        vertical-align: top;\n",
       "    }\n",
       "\n",
       "    .dataframe thead th {\n",
       "        text-align: right;\n",
       "    }\n",
       "</style>\n",
       "<table border=\"1\" class=\"dataframe\">\n",
       "  <thead>\n",
       "    <tr style=\"text-align: right;\">\n",
       "      <th></th>\n",
       "      <th>tconst</th>\n",
       "      <th>ordering</th>\n",
       "      <th>nconst</th>\n",
       "      <th>category</th>\n",
       "      <th>job</th>\n",
       "      <th>characters</th>\n",
       "    </tr>\n",
       "  </thead>\n",
       "  <tbody>\n",
       "    <tr>\n",
       "      <td>0</td>\n",
       "      <td>tt0111414</td>\n",
       "      <td>1</td>\n",
       "      <td>nm0246005</td>\n",
       "      <td>actor</td>\n",
       "      <td>NaN</td>\n",
       "      <td>[\"The Man\"]</td>\n",
       "    </tr>\n",
       "  </tbody>\n",
       "</table>\n",
       "</div>"
      ],
      "text/plain": [
       "      tconst  ordering     nconst category  job   characters\n",
       "0  tt0111414         1  nm0246005    actor  NaN  [\"The Man\"]"
      ]
     },
     "execution_count": 27,
     "metadata": {},
     "output_type": "execute_result"
    }
   ],
   "source": [
    "title_principals_imdb = pd.read_csv('zippedData/imdb.title.principals.csv.gz', compression='gzip')\n",
    "title_principals_imdb.head(1)"
   ]
  },
  {
   "cell_type": "markdown",
   "metadata": {},
   "source": [
    "### IMDB Rating\n",
    "Key for titles along with rating and number of votes"
   ]
  },
  {
   "cell_type": "code",
   "execution_count": 28,
   "metadata": {},
   "outputs": [
    {
     "data": {
      "text/html": [
       "<div>\n",
       "<style scoped>\n",
       "    .dataframe tbody tr th:only-of-type {\n",
       "        vertical-align: middle;\n",
       "    }\n",
       "\n",
       "    .dataframe tbody tr th {\n",
       "        vertical-align: top;\n",
       "    }\n",
       "\n",
       "    .dataframe thead th {\n",
       "        text-align: right;\n",
       "    }\n",
       "</style>\n",
       "<table border=\"1\" class=\"dataframe\">\n",
       "  <thead>\n",
       "    <tr style=\"text-align: right;\">\n",
       "      <th></th>\n",
       "      <th>tconst</th>\n",
       "      <th>averagerating</th>\n",
       "      <th>numvotes</th>\n",
       "    </tr>\n",
       "  </thead>\n",
       "  <tbody>\n",
       "    <tr>\n",
       "      <td>0</td>\n",
       "      <td>tt10356526</td>\n",
       "      <td>8.30000</td>\n",
       "      <td>31</td>\n",
       "    </tr>\n",
       "  </tbody>\n",
       "</table>\n",
       "</div>"
      ],
      "text/plain": [
       "       tconst  averagerating  numvotes\n",
       "0  tt10356526        8.30000        31"
      ]
     },
     "execution_count": 28,
     "metadata": {},
     "output_type": "execute_result"
    }
   ],
   "source": [
    "title_ratings_imdb = pd.read_csv('zippedData/imdb.title.ratings.csv.gz', compression='gzip')\n",
    "title_ratings_imdb.head(1)"
   ]
  },
  {
   "cell_type": "markdown",
   "metadata": {},
   "source": [
    "## Rotten Tomatos"
   ]
  },
  {
   "cell_type": "markdown",
   "metadata": {},
   "source": [
    "### Rotten Tomatos info\n",
    "# <span style=\"color:red\">  Note: No title, assuming id links to title somewhere</span>"
   ]
  },
  {
   "cell_type": "code",
   "execution_count": 29,
   "metadata": {},
   "outputs": [
    {
     "ename": "NameError",
     "evalue": "name 'info_roten_tom' is not defined",
     "output_type": "error",
     "traceback": [
      "\u001b[0;31m---------------------------------------------------------------------------\u001b[0m",
      "\u001b[0;31mNameError\u001b[0m                                 Traceback (most recent call last)",
      "\u001b[0;32m<ipython-input-29-cfc6a36942b2>\u001b[0m in \u001b[0;36m<module>\u001b[0;34m\u001b[0m\n\u001b[1;32m      1\u001b[0m \u001b[0minfo_rotten_tom\u001b[0m \u001b[0;34m=\u001b[0m \u001b[0mpd\u001b[0m\u001b[0;34m.\u001b[0m\u001b[0mread_csv\u001b[0m\u001b[0;34m(\u001b[0m\u001b[0;34m'zippedData/rt.movie_info.tsv.gz'\u001b[0m\u001b[0;34m,\u001b[0m \u001b[0mdelimiter\u001b[0m\u001b[0;34m=\u001b[0m\u001b[0;34m'\\t'\u001b[0m\u001b[0;34m,\u001b[0m \u001b[0mcompression\u001b[0m\u001b[0;34m=\u001b[0m\u001b[0;34m'gzip'\u001b[0m\u001b[0;34m)\u001b[0m\u001b[0;34m\u001b[0m\u001b[0;34m\u001b[0m\u001b[0m\n\u001b[0;32m----> 2\u001b[0;31m \u001b[0minfo_roten_tom\u001b[0m\u001b[0;34m.\u001b[0m\u001b[0mhead\u001b[0m\u001b[0;34m(\u001b[0m\u001b[0;36m1\u001b[0m\u001b[0;34m)\u001b[0m\u001b[0;34m\u001b[0m\u001b[0;34m\u001b[0m\u001b[0m\n\u001b[0m",
      "\u001b[0;31mNameError\u001b[0m: name 'info_roten_tom' is not defined"
     ]
    }
   ],
   "source": [
    "info_rotten_tom = pd.read_csv('zippedData/rt.movie_info.tsv.gz', delimiter='\\t', compression='gzip')\n",
    "info_roten_tom.head(1)"
   ]
  },
  {
   "cell_type": "markdown",
   "metadata": {},
   "source": [
    "### Rotten Tomatos Reviews\n",
    "# <span style=\"color:red\">  Note: Also no titles, assuming id links to title but don't seem to have that data</span>"
   ]
  },
  {
   "cell_type": "code",
   "execution_count": 30,
   "metadata": {
    "scrolled": true
   },
   "outputs": [
    {
     "data": {
      "text/html": [
       "<div>\n",
       "<style scoped>\n",
       "    .dataframe tbody tr th:only-of-type {\n",
       "        vertical-align: middle;\n",
       "    }\n",
       "\n",
       "    .dataframe tbody tr th {\n",
       "        vertical-align: top;\n",
       "    }\n",
       "\n",
       "    .dataframe thead th {\n",
       "        text-align: right;\n",
       "    }\n",
       "</style>\n",
       "<table border=\"1\" class=\"dataframe\">\n",
       "  <thead>\n",
       "    <tr style=\"text-align: right;\">\n",
       "      <th></th>\n",
       "      <th>id</th>\n",
       "      <th>review</th>\n",
       "      <th>rating</th>\n",
       "      <th>fresh</th>\n",
       "      <th>critic</th>\n",
       "      <th>top_critic</th>\n",
       "      <th>publisher</th>\n",
       "      <th>date</th>\n",
       "    </tr>\n",
       "  </thead>\n",
       "  <tbody>\n",
       "    <tr>\n",
       "      <td>0</td>\n",
       "      <td>3</td>\n",
       "      <td>A distinctly gallows take on contemporary fina...</td>\n",
       "      <td>3/5</td>\n",
       "      <td>fresh</td>\n",
       "      <td>PJ Nabarro</td>\n",
       "      <td>0</td>\n",
       "      <td>Patrick Nabarro</td>\n",
       "      <td>November 10, 2018</td>\n",
       "    </tr>\n",
       "  </tbody>\n",
       "</table>\n",
       "</div>"
      ],
      "text/plain": [
       "   id                                             review rating  fresh  \\\n",
       "0   3  A distinctly gallows take on contemporary fina...    3/5  fresh   \n",
       "\n",
       "       critic  top_critic        publisher               date  \n",
       "0  PJ Nabarro           0  Patrick Nabarro  November 10, 2018  "
      ]
     },
     "execution_count": 30,
     "metadata": {},
     "output_type": "execute_result"
    }
   ],
   "source": [
    "reviews_rotten_tom = pd.read_csv('zippedData/rt.reviews.tsv.gz', delimiter='\\t', compression='gzip', encoding=\"cp1252\")\n",
    "reviews_rotten_tom.head(1)"
   ]
  },
  {
   "cell_type": "markdown",
   "metadata": {},
   "source": [
    "## The Movie DataBase"
   ]
  },
  {
   "cell_type": "markdown",
   "metadata": {},
   "source": [
    "### TMDB info"
   ]
  },
  {
   "cell_type": "code",
   "execution_count": 31,
   "metadata": {},
   "outputs": [
    {
     "data": {
      "text/html": [
       "<div>\n",
       "<style scoped>\n",
       "    .dataframe tbody tr th:only-of-type {\n",
       "        vertical-align: middle;\n",
       "    }\n",
       "\n",
       "    .dataframe tbody tr th {\n",
       "        vertical-align: top;\n",
       "    }\n",
       "\n",
       "    .dataframe thead th {\n",
       "        text-align: right;\n",
       "    }\n",
       "</style>\n",
       "<table border=\"1\" class=\"dataframe\">\n",
       "  <thead>\n",
       "    <tr style=\"text-align: right;\">\n",
       "      <th></th>\n",
       "      <th>Unnamed: 0</th>\n",
       "      <th>genre_ids</th>\n",
       "      <th>id</th>\n",
       "      <th>original_language</th>\n",
       "      <th>original_title</th>\n",
       "      <th>popularity</th>\n",
       "      <th>release_date</th>\n",
       "      <th>title</th>\n",
       "      <th>vote_average</th>\n",
       "      <th>vote_count</th>\n",
       "    </tr>\n",
       "  </thead>\n",
       "  <tbody>\n",
       "    <tr>\n",
       "      <td>0</td>\n",
       "      <td>0</td>\n",
       "      <td>[12, 14, 10751]</td>\n",
       "      <td>12444</td>\n",
       "      <td>en</td>\n",
       "      <td>Harry Potter and the Deathly Hallows: Part 1</td>\n",
       "      <td>33.53300</td>\n",
       "      <td>2010-11-19</td>\n",
       "      <td>Harry Potter and the Deathly Hallows: Part 1</td>\n",
       "      <td>7.70000</td>\n",
       "      <td>10788</td>\n",
       "    </tr>\n",
       "    <tr>\n",
       "      <td>1</td>\n",
       "      <td>1</td>\n",
       "      <td>[14, 12, 16, 10751]</td>\n",
       "      <td>10191</td>\n",
       "      <td>en</td>\n",
       "      <td>How to Train Your Dragon</td>\n",
       "      <td>28.73400</td>\n",
       "      <td>2010-03-26</td>\n",
       "      <td>How to Train Your Dragon</td>\n",
       "      <td>7.70000</td>\n",
       "      <td>7610</td>\n",
       "    </tr>\n",
       "    <tr>\n",
       "      <td>2</td>\n",
       "      <td>2</td>\n",
       "      <td>[12, 28, 878]</td>\n",
       "      <td>10138</td>\n",
       "      <td>en</td>\n",
       "      <td>Iron Man 2</td>\n",
       "      <td>28.51500</td>\n",
       "      <td>2010-05-07</td>\n",
       "      <td>Iron Man 2</td>\n",
       "      <td>6.80000</td>\n",
       "      <td>12368</td>\n",
       "    </tr>\n",
       "    <tr>\n",
       "      <td>3</td>\n",
       "      <td>3</td>\n",
       "      <td>[16, 35, 10751]</td>\n",
       "      <td>862</td>\n",
       "      <td>en</td>\n",
       "      <td>Toy Story</td>\n",
       "      <td>28.00500</td>\n",
       "      <td>1995-11-22</td>\n",
       "      <td>Toy Story</td>\n",
       "      <td>7.90000</td>\n",
       "      <td>10174</td>\n",
       "    </tr>\n",
       "    <tr>\n",
       "      <td>4</td>\n",
       "      <td>4</td>\n",
       "      <td>[28, 878, 12]</td>\n",
       "      <td>27205</td>\n",
       "      <td>en</td>\n",
       "      <td>Inception</td>\n",
       "      <td>27.92000</td>\n",
       "      <td>2010-07-16</td>\n",
       "      <td>Inception</td>\n",
       "      <td>8.30000</td>\n",
       "      <td>22186</td>\n",
       "    </tr>\n",
       "    <tr>\n",
       "      <td>...</td>\n",
       "      <td>...</td>\n",
       "      <td>...</td>\n",
       "      <td>...</td>\n",
       "      <td>...</td>\n",
       "      <td>...</td>\n",
       "      <td>...</td>\n",
       "      <td>...</td>\n",
       "      <td>...</td>\n",
       "      <td>...</td>\n",
       "      <td>...</td>\n",
       "    </tr>\n",
       "    <tr>\n",
       "      <td>26512</td>\n",
       "      <td>26512</td>\n",
       "      <td>[27, 18]</td>\n",
       "      <td>488143</td>\n",
       "      <td>en</td>\n",
       "      <td>Laboratory Conditions</td>\n",
       "      <td>0.60000</td>\n",
       "      <td>2018-10-13</td>\n",
       "      <td>Laboratory Conditions</td>\n",
       "      <td>0.00000</td>\n",
       "      <td>1</td>\n",
       "    </tr>\n",
       "    <tr>\n",
       "      <td>26513</td>\n",
       "      <td>26513</td>\n",
       "      <td>[18, 53]</td>\n",
       "      <td>485975</td>\n",
       "      <td>en</td>\n",
       "      <td>_EXHIBIT_84xxx_</td>\n",
       "      <td>0.60000</td>\n",
       "      <td>2018-05-01</td>\n",
       "      <td>_EXHIBIT_84xxx_</td>\n",
       "      <td>0.00000</td>\n",
       "      <td>1</td>\n",
       "    </tr>\n",
       "    <tr>\n",
       "      <td>26514</td>\n",
       "      <td>26514</td>\n",
       "      <td>[14, 28, 12]</td>\n",
       "      <td>381231</td>\n",
       "      <td>en</td>\n",
       "      <td>The Last One</td>\n",
       "      <td>0.60000</td>\n",
       "      <td>2018-10-01</td>\n",
       "      <td>The Last One</td>\n",
       "      <td>0.00000</td>\n",
       "      <td>1</td>\n",
       "    </tr>\n",
       "    <tr>\n",
       "      <td>26515</td>\n",
       "      <td>26515</td>\n",
       "      <td>[10751, 12, 28]</td>\n",
       "      <td>366854</td>\n",
       "      <td>en</td>\n",
       "      <td>Trailer Made</td>\n",
       "      <td>0.60000</td>\n",
       "      <td>2018-06-22</td>\n",
       "      <td>Trailer Made</td>\n",
       "      <td>0.00000</td>\n",
       "      <td>1</td>\n",
       "    </tr>\n",
       "    <tr>\n",
       "      <td>26516</td>\n",
       "      <td>26516</td>\n",
       "      <td>[53, 27]</td>\n",
       "      <td>309885</td>\n",
       "      <td>en</td>\n",
       "      <td>The Church</td>\n",
       "      <td>0.60000</td>\n",
       "      <td>2018-10-05</td>\n",
       "      <td>The Church</td>\n",
       "      <td>0.00000</td>\n",
       "      <td>1</td>\n",
       "    </tr>\n",
       "  </tbody>\n",
       "</table>\n",
       "<p>26517 rows × 10 columns</p>\n",
       "</div>"
      ],
      "text/plain": [
       "       Unnamed: 0            genre_ids      id original_language  \\\n",
       "0               0      [12, 14, 10751]   12444                en   \n",
       "1               1  [14, 12, 16, 10751]   10191                en   \n",
       "2               2        [12, 28, 878]   10138                en   \n",
       "3               3      [16, 35, 10751]     862                en   \n",
       "4               4        [28, 878, 12]   27205                en   \n",
       "...           ...                  ...     ...               ...   \n",
       "26512       26512             [27, 18]  488143                en   \n",
       "26513       26513             [18, 53]  485975                en   \n",
       "26514       26514         [14, 28, 12]  381231                en   \n",
       "26515       26515      [10751, 12, 28]  366854                en   \n",
       "26516       26516             [53, 27]  309885                en   \n",
       "\n",
       "                                     original_title  popularity release_date  \\\n",
       "0      Harry Potter and the Deathly Hallows: Part 1    33.53300   2010-11-19   \n",
       "1                          How to Train Your Dragon    28.73400   2010-03-26   \n",
       "2                                        Iron Man 2    28.51500   2010-05-07   \n",
       "3                                         Toy Story    28.00500   1995-11-22   \n",
       "4                                         Inception    27.92000   2010-07-16   \n",
       "...                                             ...         ...          ...   \n",
       "26512                         Laboratory Conditions     0.60000   2018-10-13   \n",
       "26513                               _EXHIBIT_84xxx_     0.60000   2018-05-01   \n",
       "26514                                  The Last One     0.60000   2018-10-01   \n",
       "26515                                  Trailer Made     0.60000   2018-06-22   \n",
       "26516                                    The Church     0.60000   2018-10-05   \n",
       "\n",
       "                                              title  vote_average  vote_count  \n",
       "0      Harry Potter and the Deathly Hallows: Part 1       7.70000       10788  \n",
       "1                          How to Train Your Dragon       7.70000        7610  \n",
       "2                                        Iron Man 2       6.80000       12368  \n",
       "3                                         Toy Story       7.90000       10174  \n",
       "4                                         Inception       8.30000       22186  \n",
       "...                                             ...           ...         ...  \n",
       "26512                         Laboratory Conditions       0.00000           1  \n",
       "26513                               _EXHIBIT_84xxx_       0.00000           1  \n",
       "26514                                  The Last One       0.00000           1  \n",
       "26515                                  Trailer Made       0.00000           1  \n",
       "26516                                    The Church       0.00000           1  \n",
       "\n",
       "[26517 rows x 10 columns]"
      ]
     },
     "execution_count": 31,
     "metadata": {},
     "output_type": "execute_result"
    }
   ],
   "source": [
    "movies_movie_db = pd.read_csv('zippedData/tmdb.movies.csv.gz', compression='gzip')\n",
    "# movies_movie_db.loc[movies_movie_db['id']==1]\n",
    "movies_movie_db"
   ]
  },
  {
   "cell_type": "code",
   "execution_count": 57,
   "metadata": {},
   "outputs": [],
   "source": [
    "# movies_movie_db.loc[movies_movie_db.genre_ids == [16]]\n",
    "TMDB_movies_df = movies_movie_db[movies_movie_db['genre_ids'].str.contains('16')]"
   ]
  },
  {
   "cell_type": "markdown",
   "metadata": {},
   "source": [
    "### TMDB budgets\n",
    "# <span style=\"color:red\"> What does the ID mean? </span>"
   ]
  },
  {
   "cell_type": "code",
   "execution_count": 58,
   "metadata": {},
   "outputs": [
    {
     "data": {
      "text/html": [
       "<div>\n",
       "<style scoped>\n",
       "    .dataframe tbody tr th:only-of-type {\n",
       "        vertical-align: middle;\n",
       "    }\n",
       "\n",
       "    .dataframe tbody tr th {\n",
       "        vertical-align: top;\n",
       "    }\n",
       "\n",
       "    .dataframe thead th {\n",
       "        text-align: right;\n",
       "    }\n",
       "</style>\n",
       "<table border=\"1\" class=\"dataframe\">\n",
       "  <thead>\n",
       "    <tr style=\"text-align: right;\">\n",
       "      <th></th>\n",
       "      <th>id</th>\n",
       "      <th>release_date</th>\n",
       "      <th>movie</th>\n",
       "      <th>production_budget</th>\n",
       "      <th>domestic_gross</th>\n",
       "      <th>worldwide_gross</th>\n",
       "    </tr>\n",
       "  </thead>\n",
       "  <tbody>\n",
       "    <tr>\n",
       "      <td>0</td>\n",
       "      <td>1</td>\n",
       "      <td>Dec 18, 2009</td>\n",
       "      <td>Avatar</td>\n",
       "      <td>$425,000,000</td>\n",
       "      <td>$760,507,625</td>\n",
       "      <td>$2,776,345,279</td>\n",
       "    </tr>\n",
       "    <tr>\n",
       "      <td>1</td>\n",
       "      <td>2</td>\n",
       "      <td>May 20, 2011</td>\n",
       "      <td>Pirates of the Caribbean: On Stranger Tides</td>\n",
       "      <td>$410,600,000</td>\n",
       "      <td>$241,063,875</td>\n",
       "      <td>$1,045,663,875</td>\n",
       "    </tr>\n",
       "    <tr>\n",
       "      <td>2</td>\n",
       "      <td>3</td>\n",
       "      <td>Jun 7, 2019</td>\n",
       "      <td>Dark Phoenix</td>\n",
       "      <td>$350,000,000</td>\n",
       "      <td>$42,762,350</td>\n",
       "      <td>$149,762,350</td>\n",
       "    </tr>\n",
       "    <tr>\n",
       "      <td>3</td>\n",
       "      <td>4</td>\n",
       "      <td>May 1, 2015</td>\n",
       "      <td>Avengers: Age of Ultron</td>\n",
       "      <td>$330,600,000</td>\n",
       "      <td>$459,005,868</td>\n",
       "      <td>$1,403,013,963</td>\n",
       "    </tr>\n",
       "    <tr>\n",
       "      <td>4</td>\n",
       "      <td>5</td>\n",
       "      <td>Dec 15, 2017</td>\n",
       "      <td>Star Wars Ep. VIII: The Last Jedi</td>\n",
       "      <td>$317,000,000</td>\n",
       "      <td>$620,181,382</td>\n",
       "      <td>$1,316,721,747</td>\n",
       "    </tr>\n",
       "  </tbody>\n",
       "</table>\n",
       "</div>"
      ],
      "text/plain": [
       "   id  release_date                                        movie  \\\n",
       "0   1  Dec 18, 2009                                       Avatar   \n",
       "1   2  May 20, 2011  Pirates of the Caribbean: On Stranger Tides   \n",
       "2   3   Jun 7, 2019                                 Dark Phoenix   \n",
       "3   4   May 1, 2015                      Avengers: Age of Ultron   \n",
       "4   5  Dec 15, 2017            Star Wars Ep. VIII: The Last Jedi   \n",
       "\n",
       "  production_budget domestic_gross worldwide_gross  \n",
       "0      $425,000,000   $760,507,625  $2,776,345,279  \n",
       "1      $410,600,000   $241,063,875  $1,045,663,875  \n",
       "2      $350,000,000    $42,762,350    $149,762,350  \n",
       "3      $330,600,000   $459,005,868  $1,403,013,963  \n",
       "4      $317,000,000   $620,181,382  $1,316,721,747  "
      ]
     },
     "execution_count": 58,
     "metadata": {},
     "output_type": "execute_result"
    }
   ],
   "source": [
    "movie_budgets = pd.read_csv('zippedData/tn.movie_budgets.csv.gz', compression='gzip')\n",
    "movie_budgets.head()"
   ]
  },
  {
   "cell_type": "code",
   "execution_count": 59,
   "metadata": {},
   "outputs": [],
   "source": [
    "movie_budgets.production_budget = movie_budgets.production_budget.map(lambda budget : int(budget.replace('$', '').replace(',', '')))"
   ]
  },
  {
   "cell_type": "code",
   "execution_count": 60,
   "metadata": {},
   "outputs": [],
   "source": [
    "movie_budgets.worldwide_gross = movie_budgets.worldwide_gross.map(lambda budget : int(budget.replace('$', '').replace(',', '')))"
   ]
  },
  {
   "cell_type": "markdown",
   "metadata": {},
   "source": [
    "# Combining DF containing name and genre with DF containing budgets and returns"
   ]
  },
  {
   "cell_type": "code",
   "execution_count": 62,
   "metadata": {},
   "outputs": [],
   "source": [
    "TMDB_merge_df = pd.merge(TMDB_movies_df, movie_budgets, how='inner', left_on='title'.lower(), right_on='movie'.lower())"
   ]
  },
  {
   "cell_type": "code",
   "execution_count": 63,
   "metadata": {},
   "outputs": [
    {
     "name": "stdout",
     "output_type": "stream",
     "text": [
      "<class 'pandas.core.frame.DataFrame'>\n",
      "Int64Index: 149 entries, 0 to 148\n",
      "Data columns (total 16 columns):\n",
      "Unnamed: 0           149 non-null int64\n",
      "genre_ids            149 non-null object\n",
      "id_x                 149 non-null int64\n",
      "original_language    149 non-null object\n",
      "original_title       149 non-null object\n",
      "popularity           149 non-null float64\n",
      "release_date_x       149 non-null object\n",
      "title                149 non-null object\n",
      "vote_average         149 non-null float64\n",
      "vote_count           149 non-null int64\n",
      "id_y                 149 non-null int64\n",
      "release_date_y       149 non-null object\n",
      "movie                149 non-null object\n",
      "production_budget    149 non-null int64\n",
      "domestic_gross       149 non-null object\n",
      "worldwide_gross      149 non-null int64\n",
      "dtypes: float64(2), int64(6), object(8)\n",
      "memory usage: 19.8+ KB\n"
     ]
    }
   ],
   "source": [
    "TMDB_merge_df.info()"
   ]
  },
  {
   "cell_type": "code",
   "execution_count": 465,
   "metadata": {},
   "outputs": [],
   "source": [
    "animated_merge_df = pd.merge(animated_films_df, movie_budgets, how='inner', left_on='primary_title'.lower(), right_on='movie'.lower())\n"
   ]
  },
  {
   "cell_type": "code",
   "execution_count": 466,
   "metadata": {},
   "outputs": [
    {
     "name": "stdout",
     "output_type": "stream",
     "text": [
      "<class 'pandas.core.frame.DataFrame'>\n",
      "Int64Index: 148 entries, 0 to 147\n",
      "Data columns (total 13 columns):\n",
      "tconst               148 non-null object\n",
      "primary_title        148 non-null object\n",
      "original_title       148 non-null object\n",
      "start_year           148 non-null int64\n",
      "runtime_minutes      137 non-null float64\n",
      "genres               148 non-null object\n",
      "is_animated          148 non-null bool\n",
      "id                   148 non-null int64\n",
      "release_date         148 non-null object\n",
      "movie                148 non-null object\n",
      "production_budget    148 non-null int64\n",
      "domestic_gross       148 non-null object\n",
      "worldwide_gross      148 non-null int64\n",
      "dtypes: bool(1), float64(1), int64(4), object(7)\n",
      "memory usage: 15.2+ KB\n"
     ]
    }
   ],
   "source": [
    "animated_merge_df.info()"
   ]
  },
  {
   "cell_type": "code",
   "execution_count": 462,
   "metadata": {},
   "outputs": [],
   "source": [
    "non_animated_merge_df = pd.merge(non_animated_films_df, movie_budgets, how='inner', left_on='primary_title'.lower(), right_on='movie'.lower())"
   ]
  },
  {
   "cell_type": "code",
   "execution_count": 449,
   "metadata": {},
   "outputs": [
    {
     "data": {
      "text/html": [
       "<div>\n",
       "<style scoped>\n",
       "    .dataframe tbody tr th:only-of-type {\n",
       "        vertical-align: middle;\n",
       "    }\n",
       "\n",
       "    .dataframe tbody tr th {\n",
       "        vertical-align: top;\n",
       "    }\n",
       "\n",
       "    .dataframe thead th {\n",
       "        text-align: right;\n",
       "    }\n",
       "</style>\n",
       "<table border=\"1\" class=\"dataframe\">\n",
       "  <thead>\n",
       "    <tr style=\"text-align: right;\">\n",
       "      <th></th>\n",
       "      <th>tconst</th>\n",
       "      <th>primary_title</th>\n",
       "      <th>original_title</th>\n",
       "      <th>start_year</th>\n",
       "      <th>runtime_minutes</th>\n",
       "      <th>genres</th>\n",
       "      <th>is_animated</th>\n",
       "      <th>id</th>\n",
       "      <th>release_date</th>\n",
       "      <th>movie</th>\n",
       "      <th>production_budget</th>\n",
       "      <th>domestic_gross</th>\n",
       "      <th>worldwide_gross</th>\n",
       "    </tr>\n",
       "  </thead>\n",
       "  <tbody>\n",
       "    <tr>\n",
       "      <td>1</td>\n",
       "      <td>tt0398286</td>\n",
       "      <td>Tangled</td>\n",
       "      <td>Tangled</td>\n",
       "      <td>2010</td>\n",
       "      <td>100.00000</td>\n",
       "      <td>Adventure,Animation,Comedy</td>\n",
       "      <td>True</td>\n",
       "      <td>15</td>\n",
       "      <td>Nov 24, 2010</td>\n",
       "      <td>Tangled</td>\n",
       "      <td>260000000</td>\n",
       "      <td>$200,821,936</td>\n",
       "      <td>586477240</td>\n",
       "    </tr>\n",
       "  </tbody>\n",
       "</table>\n",
       "</div>"
      ],
      "text/plain": [
       "      tconst primary_title original_title  start_year  runtime_minutes  \\\n",
       "1  tt0398286       Tangled        Tangled        2010        100.00000   \n",
       "\n",
       "                       genres  is_animated  id  release_date    movie  \\\n",
       "1  Adventure,Animation,Comedy         True  15  Nov 24, 2010  Tangled   \n",
       "\n",
       "   production_budget domestic_gross  worldwide_gross  \n",
       "1          260000000   $200,821,936        586477240  "
      ]
     },
     "execution_count": 449,
     "metadata": {},
     "output_type": "execute_result"
    }
   ],
   "source": [
    "animated_merge_df.loc[animated_merge_df.production_budget == animated_merge_df.production_budget.max()]"
   ]
  },
  {
   "cell_type": "code",
   "execution_count": null,
   "metadata": {},
   "outputs": [],
   "source": [
    "animated_merge_df.loc[animated_merge_df.production_budget == animated_merge_df.production_budget.max()]"
   ]
  },
  {
   "cell_type": "code",
   "execution_count": 467,
   "metadata": {},
   "outputs": [
    {
     "data": {
      "text/plain": [
       "148"
      ]
     },
     "execution_count": 467,
     "metadata": {},
     "output_type": "execute_result"
    }
   ],
   "source": [
    "len(animated_merge_df)"
   ]
  },
  {
   "cell_type": "markdown",
   "metadata": {},
   "source": [
    "## Initial plot of budget to world wide gross for animated films:"
   ]
  },
  {
   "cell_type": "code",
   "execution_count": 446,
   "metadata": {},
   "outputs": [
    {
     "data": {
      "text/plain": [
       "260000000"
      ]
     },
     "execution_count": 446,
     "metadata": {},
     "output_type": "execute_result"
    }
   ],
   "source": [
    "animated_merge_df.production_budget.max()"
   ]
  },
  {
   "cell_type": "code",
   "execution_count": 458,
   "metadata": {},
   "outputs": [
    {
     "data": {
      "text/plain": [
       "<matplotlib.axes._subplots.AxesSubplot at 0x1abe2810f0>"
      ]
     },
     "execution_count": 458,
     "metadata": {},
     "output_type": "execute_result"
    },
    {
     "data": {
      "image/png": "[encoded data removed]",
      "text/plain": [
       "<Figure size 432x288 with 1 Axes>"
      ]
     },
     "metadata": {
      "needs_background": "light"
     },
     "output_type": "display_data"
    }
   ],
   "source": [
    "fig, ax = plt.subplots()\n",
    "animated_scatter = ax.scatter(animated_merge_df['production_budget']/1e6, animated_merge_df['worldwide_gross']/1e6)\n",
    "ax.set_xlabel(\"Production Budget (M)\")\n",
    "ax.set_ylabel(\"Worldwide Gross (M)\")\n",
    "ax.set_title(\"Animated Movies, Budget vs Gross (in millions)\")\n",
    "sns.regplot(animated_merge_df['production_budget']/1e6, animated_merge_df['worldwide_gross']/1e6)"
   ]
  },
  {
   "cell_type": "markdown",
   "metadata": {},
   "source": [
    "## Initial plot of budget to world wide gross for non-animated films:"
   ]
  },
  {
   "cell_type": "code",
   "execution_count": 457,
   "metadata": {},
   "outputs": [
    {
     "data": {
      "text/plain": [
       "<matplotlib.axes._subplots.AxesSubplot at 0x1abe21e7b8>"
      ]
     },
     "execution_count": 457,
     "metadata": {},
     "output_type": "execute_result"
    },
    {
     "data": {
      "image/png": "[encoded data removed]",
      "text/plain": [
       "<Figure size 432x288 with 1 Axes>"
      ]
     },
     "metadata": {
      "needs_background": "light"
     },
     "output_type": "display_data"
    }
   ],
   "source": [
    "fig, ax = plt.subplots()\n",
    "ax.scatter(non_animated_merge_df['production_budget']/1e6, non_animated_merge_df['worldwide_gross']/1e6)\n",
    "ax.set_xlabel(\"Production Budget (M)\")\n",
    "ax.set_ylabel(\"Worldwide Gross (M)\")\n",
    "ax.set_title(\"Non-animated Movies, Budget vs Gross (in millions)\")\n",
    "sns.regplot(non_animated_merge_df['production_budget']/1e6, non_animated_merge_df['worldwide_gross']/1e6)"
   ]
  },
  {
   "cell_type": "markdown",
   "metadata": {},
   "source": [
    "# TMDB API Results"
   ]
  },
  {
   "cell_type": "code",
   "execution_count": 274,
   "metadata": {},
   "outputs": [],
   "source": [
    "# CHANGED CALL TO SORT BY REVENUE AFTER MAKING all_movies LIST!!!\n",
    "def call_TMDB_api(page):\n",
    "    return requests.get('https://api.themoviedb.org/3/discover/movie?api_key=' +  api_key + '&with_genres=16&sort_by=revenue.desc&page='+ page).json()['results']\n",
    "\n",
    "first_call = requests.get('https://api.themoviedb.org/3/discover/movie?api_key=' +  api_key + '&with_genres=16&sort_by=revenue.desc')\n",
    "num_pages = first_call.json()['total_pages']"
   ]
  },
  {
   "cell_type": "code",
   "execution_count": 275,
   "metadata": {},
   "outputs": [],
   "source": [
    "# commenting this out so I don't accidentally make another 500 api calls\n",
    "\n",
    "# results = []\n",
    "# for i in range(num_pages):\n",
    "#     results += call_TMDB_api(str(i+1))"
   ]
  },
  {
   "cell_type": "code",
   "execution_count": 8,
   "metadata": {},
   "outputs": [],
   "source": [
    "def turn_response_into_list(response):\n",
    "    details = []\n",
    "    for movie in response:\n",
    "        details.append(requests.get('https://api.themoviedb.org/3/movie/'+ str(movie['id']) +'?api_key='+ api_key).json())\n",
    "    return details"
   ]
  },
  {
   "cell_type": "code",
   "execution_count": null,
   "metadata": {},
   "outputs": [],
   "source": [
    "# THIS TAKES 23 MINUTES TO RUN!!!!\n",
    "\n",
    "# all_movies = turn_response_into_list(results)"
   ]
  },
  {
   "cell_type": "code",
   "execution_count": 289,
   "metadata": {},
   "outputs": [],
   "source": [
    "# THIS TAKES 23 MINUTES TO RUN!!!!\n",
    "\n",
    "# results_by_rev = turn_response_into_list(results)"
   ]
  },
  {
   "cell_type": "markdown",
   "metadata": {},
   "source": [
    "### TEST to make sure results from API are consistent:"
   ]
  },
  {
   "cell_type": "code",
   "execution_count": 323,
   "metadata": {},
   "outputs": [],
   "source": [
    "# THIS TAKES 23 MINUTES TO RUN!!!!\n",
    "\n",
    "# compare_results_by_rev = turn_response_into_list(results)"
   ]
  },
  {
   "cell_type": "code",
   "execution_count": 324,
   "metadata": {},
   "outputs": [
    {
     "data": {
      "text/plain": [
       "True"
      ]
     },
     "execution_count": 324,
     "metadata": {},
     "output_type": "execute_result"
    }
   ],
   "source": [
    "compare_results_by_rev == results_by_rev"
   ]
  },
  {
   "cell_type": "code",
   "execution_count": 28,
   "metadata": {},
   "outputs": [],
   "source": [
    "keys = all_movies[1].keys()"
   ]
  },
  {
   "cell_type": "code",
   "execution_count": 36,
   "metadata": {},
   "outputs": [
    {
     "data": {
      "text/plain": [
       "Index(['adult', 'backdrop_path', 'belongs_to_collection', 'budget', 'genres',\n",
       "       'homepage', 'id', 'imdb_id', 'original_language', 'original_title',\n",
       "       'overview', 'popularity', 'poster_path', 'production_companies',\n",
       "       'production_countries', 'release_date', 'revenue', 'runtime',\n",
       "       'spoken_languages', 'status', 'tagline', 'title', 'video',\n",
       "       'vote_average', 'vote_count'],\n",
       "      dtype='object')"
      ]
     },
     "execution_count": 36,
     "metadata": {},
     "output_type": "execute_result"
    }
   ],
   "source": [
    "tmdb_data = pd.DataFrame(all_movies, columns = keys)"
   ]
  },
  {
   "cell_type": "code",
   "execution_count": 290,
   "metadata": {},
   "outputs": [],
   "source": [
    "tmdb_data_by_revenue = pd.DataFrame(results_by_rev, columns = keys)"
   ]
  },
  {
   "cell_type": "code",
   "execution_count": 291,
   "metadata": {},
   "outputs": [],
   "source": [
    "tmdb_data_by_revenue.to_csv('tmdb_animation_by_revenue.csv')"
   ]
  },
  {
   "cell_type": "code",
   "execution_count": 33,
   "metadata": {},
   "outputs": [],
   "source": [
    "tmdb_data.to_csv('tmdb_animation.csv')"
   ]
  },
  {
   "cell_type": "markdown",
   "metadata": {},
   "source": [
    "# Import new csv from what we made up there ^^^"
   ]
  },
  {
   "cell_type": "code",
   "execution_count": 113,
   "metadata": {},
   "outputs": [],
   "source": [
    "tmdb_df = pd.read_csv('tmdb_animation.csv', index_col=None, header=0, engine='python' )\n"
   ]
  },
  {
   "cell_type": "code",
   "execution_count": 430,
   "metadata": {},
   "outputs": [],
   "source": [
    "tmdb_by_revenue_df = pd.read_csv('tmdb_animation_by_revenue.csv', index_col=None, header=0, engine='python' )"
   ]
  },
  {
   "cell_type": "markdown",
   "metadata": {},
   "source": [
    "## Drop rows where revenue is 0"
   ]
  },
  {
   "cell_type": "code",
   "execution_count": 119,
   "metadata": {},
   "outputs": [],
   "source": [
    "tmdb_df.dropna(axis=0, subset=['revenue'], inplace=True)"
   ]
  },
  {
   "cell_type": "code",
   "execution_count": 328,
   "metadata": {},
   "outputs": [],
   "source": [
    "tmdb_by_revenue_df.dropna(axis=0, subset=['revenue'], inplace=True)"
   ]
  },
  {
   "cell_type": "code",
   "execution_count": null,
   "metadata": {},
   "outputs": [],
   "source": []
  },
  {
   "cell_type": "code",
   "execution_count": 327,
   "metadata": {},
   "outputs": [
    {
     "data": {
      "text/html": [
       "<div>\n",
       "<style scoped>\n",
       "    .dataframe tbody tr th:only-of-type {\n",
       "        vertical-align: middle;\n",
       "    }\n",
       "\n",
       "    .dataframe tbody tr th {\n",
       "        vertical-align: top;\n",
       "    }\n",
       "\n",
       "    .dataframe thead th {\n",
       "        text-align: right;\n",
       "    }\n",
       "</style>\n",
       "<table border=\"1\" class=\"dataframe\">\n",
       "  <thead>\n",
       "    <tr style=\"text-align: right;\">\n",
       "      <th></th>\n",
       "      <th></th>\n",
       "      <th>id</th>\n",
       "      <th>revenue</th>\n",
       "      <th>runtime</th>\n",
       "      <th>vote_average</th>\n",
       "      <th>vote_count</th>\n",
       "    </tr>\n",
       "    <tr>\n",
       "      <th>budget</th>\n",
       "      <th>title</th>\n",
       "      <th></th>\n",
       "      <th></th>\n",
       "      <th></th>\n",
       "      <th></th>\n",
       "      <th></th>\n",
       "    </tr>\n",
       "  </thead>\n",
       "  <tbody>\n",
       "    <tr>\n",
       "      <td>998000.0</td>\n",
       "      <td>Revolutionary Girl Utena: The Adolescence of Utena</td>\n",
       "      <td>19738.00000</td>\n",
       "      <td>0.00000</td>\n",
       "      <td>87.00000</td>\n",
       "      <td>7.30000</td>\n",
       "      <td>27.00000</td>\n",
       "    </tr>\n",
       "    <tr>\n",
       "      <td>99000000.0</td>\n",
       "      <td>The Peanuts Movie</td>\n",
       "      <td>227973.00000</td>\n",
       "      <td>246233113.00000</td>\n",
       "      <td>88.00000</td>\n",
       "      <td>6.70000</td>\n",
       "      <td>1032.00000</td>\n",
       "    </tr>\n",
       "    <tr>\n",
       "      <td>9577.0</td>\n",
       "      <td>Night</td>\n",
       "      <td>39092.00000</td>\n",
       "      <td>0.00000</td>\n",
       "      <td>7.00000</td>\n",
       "      <td>4.60000</td>\n",
       "      <td>11.00000</td>\n",
       "    </tr>\n",
       "    <tr>\n",
       "      <td rowspan=\"2\" valign=\"top\">95000000.0</td>\n",
       "      <td>The Road to El Dorado</td>\n",
       "      <td>10501.00000</td>\n",
       "      <td>76432727.00000</td>\n",
       "      <td>89.00000</td>\n",
       "      <td>7.20000</td>\n",
       "      <td>2422.00000</td>\n",
       "    </tr>\n",
       "    <tr>\n",
       "      <td>Ice Age: Continental Drift</td>\n",
       "      <td>57800.00000</td>\n",
       "      <td>877244782.00000</td>\n",
       "      <td>88.00000</td>\n",
       "      <td>6.30000</td>\n",
       "      <td>5305.00000</td>\n",
       "    </tr>\n",
       "    <tr>\n",
       "      <td>...</td>\n",
       "      <td>...</td>\n",
       "      <td>...</td>\n",
       "      <td>...</td>\n",
       "      <td>...</td>\n",
       "      <td>...</td>\n",
       "      <td>...</td>\n",
       "    </tr>\n",
       "    <tr>\n",
       "      <td rowspan=\"5\" valign=\"top\">2000000.0</td>\n",
       "      <td>Rio 2096: A Story of Love and Fury</td>\n",
       "      <td>173443.00000</td>\n",
       "      <td>0.00000</td>\n",
       "      <td>74.00000</td>\n",
       "      <td>7.60000</td>\n",
       "      <td>37.00000</td>\n",
       "    </tr>\n",
       "    <tr>\n",
       "      <td>The Amazing Zorro</td>\n",
       "      <td>275519.00000</td>\n",
       "      <td>0.00000</td>\n",
       "      <td>72.00000</td>\n",
       "      <td>6.30000</td>\n",
       "      <td>4.00000</td>\n",
       "    </tr>\n",
       "    <tr>\n",
       "      <td>Strange Frame: Love &amp; Sax</td>\n",
       "      <td>205392.00000</td>\n",
       "      <td>0.00000</td>\n",
       "      <td>98.00000</td>\n",
       "      <td>5.40000</td>\n",
       "      <td>9.00000</td>\n",
       "    </tr>\n",
       "    <tr>\n",
       "      <td>The Happy Cricket and the Giant Bugs</td>\n",
       "      <td>205949.00000</td>\n",
       "      <td>0.00000</td>\n",
       "      <td>85.00000</td>\n",
       "      <td>0.00000</td>\n",
       "      <td>0.00000</td>\n",
       "    </tr>\n",
       "    <tr>\n",
       "      <td>Waltz with Bashir</td>\n",
       "      <td>8885.00000</td>\n",
       "      <td>11125849.00000</td>\n",
       "      <td>90.00000</td>\n",
       "      <td>7.80000</td>\n",
       "      <td>592.00000</td>\n",
       "    </tr>\n",
       "  </tbody>\n",
       "</table>\n",
       "<p>500 rows × 5 columns</p>\n",
       "</div>"
      ],
      "text/plain": [
       "                                                                        id  \\\n",
       "budget     title                                                             \n",
       "998000.0   Revolutionary Girl Utena: The Adolescence of Utena  19738.00000   \n",
       "99000000.0 The Peanuts Movie                                  227973.00000   \n",
       "9577.0     Night                                               39092.00000   \n",
       "95000000.0 The Road to El Dorado                               10501.00000   \n",
       "           Ice Age: Continental Drift                          57800.00000   \n",
       "...                                                                    ...   \n",
       "2000000.0  Rio 2096: A Story of Love and Fury                 173443.00000   \n",
       "           The Amazing Zorro                                  275519.00000   \n",
       "           Strange Frame: Love & Sax                          205392.00000   \n",
       "           The Happy Cricket and the Giant Bugs               205949.00000   \n",
       "           Waltz with Bashir                                    8885.00000   \n",
       "\n",
       "                                                                      revenue  \\\n",
       "budget     title                                                                \n",
       "998000.0   Revolutionary Girl Utena: The Adolescence of Utena         0.00000   \n",
       "99000000.0 The Peanuts Movie                                  246233113.00000   \n",
       "9577.0     Night                                                      0.00000   \n",
       "95000000.0 The Road to El Dorado                               76432727.00000   \n",
       "           Ice Age: Continental Drift                         877244782.00000   \n",
       "...                                                                       ...   \n",
       "2000000.0  Rio 2096: A Story of Love and Fury                         0.00000   \n",
       "           The Amazing Zorro                                          0.00000   \n",
       "           Strange Frame: Love & Sax                                  0.00000   \n",
       "           The Happy Cricket and the Giant Bugs                       0.00000   \n",
       "           Waltz with Bashir                                   11125849.00000   \n",
       "\n",
       "                                                               runtime  \\\n",
       "budget     title                                                         \n",
       "998000.0   Revolutionary Girl Utena: The Adolescence of Utena 87.00000   \n",
       "99000000.0 The Peanuts Movie                                  88.00000   \n",
       "9577.0     Night                                               7.00000   \n",
       "95000000.0 The Road to El Dorado                              89.00000   \n",
       "           Ice Age: Continental Drift                         88.00000   \n",
       "...                                                                ...   \n",
       "2000000.0  Rio 2096: A Story of Love and Fury                 74.00000   \n",
       "           The Amazing Zorro                                  72.00000   \n",
       "           Strange Frame: Love & Sax                          98.00000   \n",
       "           The Happy Cricket and the Giant Bugs               85.00000   \n",
       "           Waltz with Bashir                                  90.00000   \n",
       "\n",
       "                                                               vote_average  \\\n",
       "budget     title                                                              \n",
       "998000.0   Revolutionary Girl Utena: The Adolescence of Utena       7.30000   \n",
       "99000000.0 The Peanuts Movie                                        6.70000   \n",
       "9577.0     Night                                                    4.60000   \n",
       "95000000.0 The Road to El Dorado                                    7.20000   \n",
       "           Ice Age: Continental Drift                               6.30000   \n",
       "...                                                                     ...   \n",
       "2000000.0  Rio 2096: A Story of Love and Fury                       7.60000   \n",
       "           The Amazing Zorro                                        6.30000   \n",
       "           Strange Frame: Love & Sax                                5.40000   \n",
       "           The Happy Cricket and the Giant Bugs                     0.00000   \n",
       "           Waltz with Bashir                                        7.80000   \n",
       "\n",
       "                                                               vote_count  \n",
       "budget     title                                                           \n",
       "998000.0   Revolutionary Girl Utena: The Adolescence of Utena    27.00000  \n",
       "99000000.0 The Peanuts Movie                                   1032.00000  \n",
       "9577.0     Night                                                 11.00000  \n",
       "95000000.0 The Road to El Dorado                               2422.00000  \n",
       "           Ice Age: Continental Drift                          5305.00000  \n",
       "...                                                                   ...  \n",
       "2000000.0  Rio 2096: A Story of Love and Fury                    37.00000  \n",
       "           The Amazing Zorro                                      4.00000  \n",
       "           Strange Frame: Love & Sax                              9.00000  \n",
       "           The Happy Cricket and the Giant Bugs                   0.00000  \n",
       "           Waltz with Bashir                                    592.00000  \n",
       "\n",
       "[500 rows x 5 columns]"
      ]
     },
     "execution_count": 327,
     "metadata": {},
     "output_type": "execute_result"
    }
   ],
   "source": [
    "tmdb_df.groupby(['budget', 'title']).sum().sort_values(by='budget', ascending=False).head(500)"
   ]
  },
  {
   "cell_type": "code",
   "execution_count": 322,
   "metadata": {},
   "outputs": [
    {
     "data": {
      "text/html": [
       "<div>\n",
       "<style scoped>\n",
       "    .dataframe tbody tr th:only-of-type {\n",
       "        vertical-align: middle;\n",
       "    }\n",
       "\n",
       "    .dataframe tbody tr th {\n",
       "        vertical-align: top;\n",
       "    }\n",
       "\n",
       "    .dataframe thead th {\n",
       "        text-align: right;\n",
       "    }\n",
       "</style>\n",
       "<table border=\"1\" class=\"dataframe\">\n",
       "  <thead>\n",
       "    <tr style=\"text-align: right;\">\n",
       "      <th></th>\n",
       "      <th>id</th>\n",
       "      <th>runtime</th>\n",
       "      <th>vote_average</th>\n",
       "      <th>vote_count</th>\n",
       "    </tr>\n",
       "    <tr>\n",
       "      <th>revenue</th>\n",
       "      <th></th>\n",
       "      <th></th>\n",
       "      <th></th>\n",
       "      <th></th>\n",
       "    </tr>\n",
       "  </thead>\n",
       "  <tbody>\n",
       "    <tr>\n",
       "      <td>1330764959.00000</td>\n",
       "      <td>330457.00000</td>\n",
       "      <td>104.00000</td>\n",
       "      <td>7.20000</td>\n",
       "      <td>4647.00000</td>\n",
       "    </tr>\n",
       "    <tr>\n",
       "      <td>1274219009.00000</td>\n",
       "      <td>109445.00000</td>\n",
       "      <td>102.00000</td>\n",
       "      <td>7.30000</td>\n",
       "      <td>11832.00000</td>\n",
       "    </tr>\n",
       "    <tr>\n",
       "      <td>1242805359.00000</td>\n",
       "      <td>260513.00000</td>\n",
       "      <td>118.00000</td>\n",
       "      <td>7.50000</td>\n",
       "      <td>8400.00000</td>\n",
       "    </tr>\n",
       "    <tr>\n",
       "      <td>1156730962.00000</td>\n",
       "      <td>211672.00000</td>\n",
       "      <td>91.00000</td>\n",
       "      <td>6.40000</td>\n",
       "      <td>8057.00000</td>\n",
       "    </tr>\n",
       "    <tr>\n",
       "      <td>1073394593.00000</td>\n",
       "      <td>301528.00000</td>\n",
       "      <td>100.00000</td>\n",
       "      <td>7.60000</td>\n",
       "      <td>5034.00000</td>\n",
       "    </tr>\n",
       "    <tr>\n",
       "      <td>...</td>\n",
       "      <td>...</td>\n",
       "      <td>...</td>\n",
       "      <td>...</td>\n",
       "      <td>...</td>\n",
       "    </tr>\n",
       "    <tr>\n",
       "      <td>1015339.00000</td>\n",
       "      <td>366170.00000</td>\n",
       "      <td>120.00000</td>\n",
       "      <td>6.80000</td>\n",
       "      <td>99.00000</td>\n",
       "    </tr>\n",
       "    <tr>\n",
       "      <td>1000000.00000</td>\n",
       "      <td>337203.00000</td>\n",
       "      <td>167.00000</td>\n",
       "      <td>9.10000</td>\n",
       "      <td>8.00000</td>\n",
       "    </tr>\n",
       "    <tr>\n",
       "      <td>955401.00000</td>\n",
       "      <td>47542.00000</td>\n",
       "      <td>81.00000</td>\n",
       "      <td>6.30000</td>\n",
       "      <td>15.00000</td>\n",
       "    </tr>\n",
       "    <tr>\n",
       "      <td>952820.00000</td>\n",
       "      <td>22331.00000</td>\n",
       "      <td>88.00000</td>\n",
       "      <td>6.10000</td>\n",
       "      <td>7.00000</td>\n",
       "    </tr>\n",
       "    <tr>\n",
       "      <td>944915.00000</td>\n",
       "      <td>4977.00000</td>\n",
       "      <td>90.00000</td>\n",
       "      <td>7.80000</td>\n",
       "      <td>1113.00000</td>\n",
       "    </tr>\n",
       "  </tbody>\n",
       "</table>\n",
       "<p>500 rows × 4 columns</p>\n",
       "</div>"
      ],
      "text/plain": [
       "                           id   runtime  vote_average  vote_count\n",
       "revenue                                                          \n",
       "1330764959.00000 330457.00000 104.00000       7.20000  4647.00000\n",
       "1274219009.00000 109445.00000 102.00000       7.30000 11832.00000\n",
       "1242805359.00000 260513.00000 118.00000       7.50000  8400.00000\n",
       "1156730962.00000 211672.00000  91.00000       6.40000  8057.00000\n",
       "1073394593.00000 301528.00000 100.00000       7.60000  5034.00000\n",
       "...                       ...       ...           ...         ...\n",
       "1015339.00000    366170.00000 120.00000       6.80000    99.00000\n",
       "1000000.00000    337203.00000 167.00000       9.10000     8.00000\n",
       "955401.00000      47542.00000  81.00000       6.30000    15.00000\n",
       "952820.00000      22331.00000  88.00000       6.10000     7.00000\n",
       "944915.00000       4977.00000  90.00000       7.80000  1113.00000\n",
       "\n",
       "[500 rows x 4 columns]"
      ]
     },
     "execution_count": 322,
     "metadata": {},
     "output_type": "execute_result"
    }
   ],
   "source": [
    "tmdb_by_revenue_df.groupby('revenue').sum().sort_values(by='revenue', ascending=False).head(500)"
   ]
  },
  {
   "cell_type": "code",
   "execution_count": 310,
   "metadata": {},
   "outputs": [],
   "source": [
    "tmdb_df.dropna(axis=0, subset=['budget'], inplace=True)"
   ]
  },
  {
   "cell_type": "code",
   "execution_count": 313,
   "metadata": {},
   "outputs": [],
   "source": [
    "tmdb_by_revenue_df.dropna(axis=0, subset=['budget'], inplace=True)"
   ]
  },
  {
   "cell_type": "code",
   "execution_count": 311,
   "metadata": {},
   "outputs": [
    {
     "data": {
      "text/plain": [
       "9990"
      ]
     },
     "execution_count": 311,
     "metadata": {},
     "output_type": "execute_result"
    }
   ],
   "source": [
    "len(tmdb_df)"
   ]
  },
  {
   "cell_type": "code",
   "execution_count": 314,
   "metadata": {},
   "outputs": [
    {
     "data": {
      "text/plain": [
       "9978"
      ]
     },
     "execution_count": 314,
     "metadata": {},
     "output_type": "execute_result"
    }
   ],
   "source": [
    "len(tmdb_by_revenue_df)"
   ]
  },
  {
   "cell_type": "code",
   "execution_count": 315,
   "metadata": {},
   "outputs": [
    {
     "data": {
      "text/plain": [
       "0.0           9249\n",
       "10000000.0      29\n",
       "3500000.0       20\n",
       "30000000.0      19\n",
       "20000000.0      18\n",
       "              ... \n",
       "12516654.0       1\n",
       "4.0              1\n",
       "78000000.0       1\n",
       "38.0             1\n",
       "47000000.0       1\n",
       "Name: budget, Length: 341, dtype: int64"
      ]
     },
     "execution_count": 315,
     "metadata": {},
     "output_type": "execute_result"
    }
   ],
   "source": [
    "tmdb_df.budget.value_counts()"
   ]
  },
  {
   "cell_type": "code",
   "execution_count": 317,
   "metadata": {},
   "outputs": [
    {
     "data": {
      "text/plain": [
       "0.0           9436\n",
       "30000000.0      16\n",
       "80000000.0      16\n",
       "10000000.0      15\n",
       "75000000.0      14\n",
       "              ... \n",
       "3700.0           1\n",
       "46597700.0       1\n",
       "2617.0           1\n",
       "47000000.0       1\n",
       "3747230.0        1\n",
       "Name: budget, Length: 234, dtype: int64"
      ]
     },
     "execution_count": 317,
     "metadata": {},
     "output_type": "execute_result"
    }
   ],
   "source": [
    "tmdb_by_revenue_df.budget.value_counts()"
   ]
  },
  {
   "cell_type": "markdown",
   "metadata": {},
   "source": [
    "Turn budget to int."
   ]
  },
  {
   "cell_type": "code",
   "execution_count": 330,
   "metadata": {
    "scrolled": true
   },
   "outputs": [],
   "source": [
    "tmdb_by_revenue_df['budget'] = pd.to_numeric(tmdb_df['budget'])"
   ]
  },
  {
   "cell_type": "code",
   "execution_count": 403,
   "metadata": {},
   "outputs": [],
   "source": [
    "tmdb_by_revenue_df = tmdb_by_revenue_df[tmdb_by_revenue_df.revenue >= 10000]"
   ]
  },
  {
   "cell_type": "code",
   "execution_count": 407,
   "metadata": {},
   "outputs": [
    {
     "data": {
      "text/html": [
       "<div>\n",
       "<style scoped>\n",
       "    .dataframe tbody tr th:only-of-type {\n",
       "        vertical-align: middle;\n",
       "    }\n",
       "\n",
       "    .dataframe tbody tr th {\n",
       "        vertical-align: top;\n",
       "    }\n",
       "\n",
       "    .dataframe thead th {\n",
       "        text-align: right;\n",
       "    }\n",
       "</style>\n",
       "<table border=\"1\" class=\"dataframe\">\n",
       "  <thead>\n",
       "    <tr style=\"text-align: right;\">\n",
       "      <th></th>\n",
       "      <th>Unnamed: 0</th>\n",
       "      <th>adult</th>\n",
       "      <th>backdrop_path</th>\n",
       "      <th>belongs_to_collection</th>\n",
       "      <th>budget</th>\n",
       "      <th>genres</th>\n",
       "      <th>homepage</th>\n",
       "      <th>id</th>\n",
       "      <th>imdb_id</th>\n",
       "      <th>original_language</th>\n",
       "      <th>...</th>\n",
       "      <th>release_date</th>\n",
       "      <th>revenue</th>\n",
       "      <th>runtime</th>\n",
       "      <th>spoken_languages</th>\n",
       "      <th>status</th>\n",
       "      <th>tagline</th>\n",
       "      <th>title</th>\n",
       "      <th>video</th>\n",
       "      <th>vote_average</th>\n",
       "      <th>vote_count</th>\n",
       "    </tr>\n",
       "  </thead>\n",
       "  <tbody>\n",
       "    <tr>\n",
       "      <td>83</td>\n",
       "      <td>83</td>\n",
       "      <td>False</td>\n",
       "      <td>/cI0E3ytJlHkL66pDMyp3TIf7VmV.jpg</td>\n",
       "      <td>NaN</td>\n",
       "      <td>260000000.00000</td>\n",
       "      <td>[{'id': 12, 'name': 'Adventure'}, {'id': 16, '...</td>\n",
       "      <td>http://www.wbshop.com/Tom-and-Jerry-Meet-Sherl...</td>\n",
       "      <td>43956.00000</td>\n",
       "      <td>tt1722638</td>\n",
       "      <td>en</td>\n",
       "      <td>...</td>\n",
       "      <td>2010-08-24</td>\n",
       "      <td>347988775.00000</td>\n",
       "      <td>49.00000</td>\n",
       "      <td>[{'iso_639_1': 'de', 'name': 'Deutsch'}, {'iso...</td>\n",
       "      <td>Released</td>\n",
       "      <td>NaN</td>\n",
       "      <td>Tom and Jerry Meet Sherlock Holmes</td>\n",
       "      <td>False</td>\n",
       "      <td>6.90000</td>\n",
       "      <td>27.00000</td>\n",
       "    </tr>\n",
       "    <tr>\n",
       "      <td>4</td>\n",
       "      <td>4</td>\n",
       "      <td>False</td>\n",
       "      <td>/q62bpQ67qaXY0u6b2wFEnQYIbPd.jpg</td>\n",
       "      <td>{'id': 10194, 'name': 'Toy Story Collection', ...</td>\n",
       "      <td>200000000.00000</td>\n",
       "      <td>[{'id': 12, 'name': 'Adventure'}, {'id': 16, '...</td>\n",
       "      <td>https://www.pixar.com/feature-films-toy-story-4</td>\n",
       "      <td>301528.00000</td>\n",
       "      <td>tt1979376</td>\n",
       "      <td>en</td>\n",
       "      <td>...</td>\n",
       "      <td>2019-06-19</td>\n",
       "      <td>1073394593.00000</td>\n",
       "      <td>100.00000</td>\n",
       "      <td>[{'iso_639_1': 'en', 'name': 'English'}]</td>\n",
       "      <td>Released</td>\n",
       "      <td>Get Ready to Hit the Road</td>\n",
       "      <td>Toy Story 4</td>\n",
       "      <td>False</td>\n",
       "      <td>7.60000</td>\n",
       "      <td>5034.00000</td>\n",
       "    </tr>\n",
       "    <tr>\n",
       "      <td>163</td>\n",
       "      <td>163</td>\n",
       "      <td>False</td>\n",
       "      <td>/aMdz0ngZaAsKvlbOCIXieHd9fgD.jpg</td>\n",
       "      <td>{'id': 694602, 'name': 'Anastasia Collection',...</td>\n",
       "      <td>200000000.00000</td>\n",
       "      <td>[{'id': 16, 'name': 'Animation'}, {'id': 10751...</td>\n",
       "      <td>NaN</td>\n",
       "      <td>9444.00000</td>\n",
       "      <td>tt0118617</td>\n",
       "      <td>en</td>\n",
       "      <td>...</td>\n",
       "      <td>1997-11-20</td>\n",
       "      <td>139804348.00000</td>\n",
       "      <td>94.00000</td>\n",
       "      <td>[{'iso_639_1': 'en', 'name': 'English'}, {'iso...</td>\n",
       "      <td>Released</td>\n",
       "      <td>Discover the Adventure Behind the Greatest Mys...</td>\n",
       "      <td>Anastasia</td>\n",
       "      <td>False</td>\n",
       "      <td>7.60000</td>\n",
       "      <td>3772.00000</td>\n",
       "    </tr>\n",
       "    <tr>\n",
       "      <td>32</td>\n",
       "      <td>32</td>\n",
       "      <td>False</td>\n",
       "      <td>/sKTFNMsuSgyAcwbD0xXVUXvvbY.jpg</td>\n",
       "      <td>{'id': 89137, 'name': 'How to Train Your Drago...</td>\n",
       "      <td>200000000.00000</td>\n",
       "      <td>[{'id': 14, 'name': 'Fantasy'}, {'id': 28, 'na...</td>\n",
       "      <td>http://www.howtotrainyourdragon.com/</td>\n",
       "      <td>82702.00000</td>\n",
       "      <td>tt1646971</td>\n",
       "      <td>en</td>\n",
       "      <td>...</td>\n",
       "      <td>2014-06-09</td>\n",
       "      <td>609123048.00000</td>\n",
       "      <td>102.00000</td>\n",
       "      <td>[{'iso_639_1': 'en', 'name': 'English'}]</td>\n",
       "      <td>Released</td>\n",
       "      <td>The training is over.</td>\n",
       "      <td>How to Train Your Dragon 2</td>\n",
       "      <td>False</td>\n",
       "      <td>7.70000</td>\n",
       "      <td>6603.00000</td>\n",
       "    </tr>\n",
       "    <tr>\n",
       "      <td>69</td>\n",
       "      <td>69</td>\n",
       "      <td>False</td>\n",
       "      <td>/uUiId6cG32JSRI6RyBQSvQtLjz2.jpg</td>\n",
       "      <td>{'id': 573436, 'name': 'Spider-Man: Spider-Ver...</td>\n",
       "      <td>200000000.00000</td>\n",
       "      <td>[{'id': 28, 'name': 'Action'}, {'id': 12, 'nam...</td>\n",
       "      <td>http://www.intothespiderverse.movie</td>\n",
       "      <td>324857.00000</td>\n",
       "      <td>tt4633694</td>\n",
       "      <td>en</td>\n",
       "      <td>...</td>\n",
       "      <td>2018-12-06</td>\n",
       "      <td>375540831.00000</td>\n",
       "      <td>117.00000</td>\n",
       "      <td>[{'iso_639_1': 'en', 'name': 'English'}, {'iso...</td>\n",
       "      <td>Released</td>\n",
       "      <td>More Than One Wears the Mask</td>\n",
       "      <td>Spider-Man: Into the Spider-Verse</td>\n",
       "      <td>False</td>\n",
       "      <td>8.40000</td>\n",
       "      <td>7248.00000</td>\n",
       "    </tr>\n",
       "    <tr>\n",
       "      <td>...</td>\n",
       "      <td>...</td>\n",
       "      <td>...</td>\n",
       "      <td>...</td>\n",
       "      <td>...</td>\n",
       "      <td>...</td>\n",
       "      <td>...</td>\n",
       "      <td>...</td>\n",
       "      <td>...</td>\n",
       "      <td>...</td>\n",
       "      <td>...</td>\n",
       "      <td>...</td>\n",
       "      <td>...</td>\n",
       "      <td>...</td>\n",
       "      <td>...</td>\n",
       "      <td>...</td>\n",
       "      <td>...</td>\n",
       "      <td>...</td>\n",
       "      <td>...</td>\n",
       "      <td>...</td>\n",
       "      <td>...</td>\n",
       "      <td>...</td>\n",
       "    </tr>\n",
       "    <tr>\n",
       "      <td>155</td>\n",
       "      <td>155</td>\n",
       "      <td>False</td>\n",
       "      <td>/qOfUKwYsRLaZJIdkTdQyNeeGc2f.jpg</td>\n",
       "      <td>{'id': 436295, 'name': \"Surf's Up Collection\",...</td>\n",
       "      <td>812000.00000</td>\n",
       "      <td>[{'id': 16, 'name': 'Animation'}, {'id': 35, '...</td>\n",
       "      <td>https://www.sonypictures.com/movies/surfsup</td>\n",
       "      <td>9408.00000</td>\n",
       "      <td>tt0423294</td>\n",
       "      <td>en</td>\n",
       "      <td>...</td>\n",
       "      <td>2007-06-08</td>\n",
       "      <td>149044513.00000</td>\n",
       "      <td>85.00000</td>\n",
       "      <td>[{'iso_639_1': 'en', 'name': 'English'}]</td>\n",
       "      <td>Released</td>\n",
       "      <td>In the coldest place on Earth, he's the hottes...</td>\n",
       "      <td>Surf's Up</td>\n",
       "      <td>False</td>\n",
       "      <td>6.20000</td>\n",
       "      <td>1525.00000</td>\n",
       "    </tr>\n",
       "    <tr>\n",
       "      <td>606</td>\n",
       "      <td>606</td>\n",
       "      <td>False</td>\n",
       "      <td>/xTXF2udD4iOiLeh1ZMtee7YVu7k.jpg</td>\n",
       "      <td>NaN</td>\n",
       "      <td>590235.00000</td>\n",
       "      <td>[{'id': 16, 'name': 'Animation'}, {'id': 35, '...</td>\n",
       "      <td>NaN</td>\n",
       "      <td>228692.00000</td>\n",
       "      <td>tt2361846</td>\n",
       "      <td>en</td>\n",
       "      <td>...</td>\n",
       "      <td>2014-04-23</td>\n",
       "      <td>15077.00000</td>\n",
       "      <td>72.00000</td>\n",
       "      <td>[{'iso_639_1': 'en', 'name': 'English'}]</td>\n",
       "      <td>Released</td>\n",
       "      <td>NaN</td>\n",
       "      <td>Cheatin'</td>\n",
       "      <td>False</td>\n",
       "      <td>7.70000</td>\n",
       "      <td>17.00000</td>\n",
       "    </tr>\n",
       "    <tr>\n",
       "      <td>334</td>\n",
       "      <td>334</td>\n",
       "      <td>False</td>\n",
       "      <td>/ob4XnKBqAh1rg381hayebJx6EkE.jpg</td>\n",
       "      <td>NaN</td>\n",
       "      <td>315000.00000</td>\n",
       "      <td>[{'id': 16, 'name': 'Animation'}, {'id': 35, '...</td>\n",
       "      <td>https://www.missinglink.movie/</td>\n",
       "      <td>458253.00000</td>\n",
       "      <td>tt6348138</td>\n",
       "      <td>en</td>\n",
       "      <td>...</td>\n",
       "      <td>2019-04-04</td>\n",
       "      <td>16649539.00000</td>\n",
       "      <td>95.00000</td>\n",
       "      <td>[{'iso_639_1': 'en', 'name': 'English'}]</td>\n",
       "      <td>Released</td>\n",
       "      <td>Meet Mr. Link</td>\n",
       "      <td>Missing Link</td>\n",
       "      <td>False</td>\n",
       "      <td>7.00000</td>\n",
       "      <td>375.00000</td>\n",
       "    </tr>\n",
       "    <tr>\n",
       "      <td>590</td>\n",
       "      <td>590</td>\n",
       "      <td>False</td>\n",
       "      <td>/w5XEKGEGG2AXp7tiXjcsEuxn7i5.jpg</td>\n",
       "      <td>NaN</td>\n",
       "      <td>132.00000</td>\n",
       "      <td>[{'id': 16, 'name': 'Animation'}, {'id': 28, '...</td>\n",
       "      <td>http://www.thresholdanimationstudios.com/video...</td>\n",
       "      <td>116977.00000</td>\n",
       "      <td>tt0249516</td>\n",
       "      <td>en</td>\n",
       "      <td>...</td>\n",
       "      <td>2012-06-15</td>\n",
       "      <td>73706.00000</td>\n",
       "      <td>87.00000</td>\n",
       "      <td>[{'iso_639_1': 'en', 'name': 'English'}]</td>\n",
       "      <td>Released</td>\n",
       "      <td>NaN</td>\n",
       "      <td>Foodfight!</td>\n",
       "      <td>False</td>\n",
       "      <td>1.70000</td>\n",
       "      <td>75.00000</td>\n",
       "    </tr>\n",
       "    <tr>\n",
       "      <td>587</td>\n",
       "      <td>587</td>\n",
       "      <td>False</td>\n",
       "      <td>/b6p0JcqxSgQYDRD8UQzKtassylA.jpg</td>\n",
       "      <td>NaN</td>\n",
       "      <td>30.00000</td>\n",
       "      <td>[{'id': 16, 'name': 'Animation'}]</td>\n",
       "      <td>http://s-wars.jp/</td>\n",
       "      <td>28874.00000</td>\n",
       "      <td>tt1474276</td>\n",
       "      <td>ja</td>\n",
       "      <td>...</td>\n",
       "      <td>2009-08-01</td>\n",
       "      <td>80768.00000</td>\n",
       "      <td>114.00000</td>\n",
       "      <td>[{'iso_639_1': 'ja', 'name': '日本語'}]</td>\n",
       "      <td>Released</td>\n",
       "      <td>NaN</td>\n",
       "      <td>Summer Wars</td>\n",
       "      <td>False</td>\n",
       "      <td>7.50000</td>\n",
       "      <td>542.00000</td>\n",
       "    </tr>\n",
       "  </tbody>\n",
       "</table>\n",
       "<p>323 rows × 26 columns</p>\n",
       "</div>"
      ],
      "text/plain": [
       "    Unnamed: 0  adult                     backdrop_path  \\\n",
       "83          83  False  /cI0E3ytJlHkL66pDMyp3TIf7VmV.jpg   \n",
       "4            4  False  /q62bpQ67qaXY0u6b2wFEnQYIbPd.jpg   \n",
       "163        163  False  /aMdz0ngZaAsKvlbOCIXieHd9fgD.jpg   \n",
       "32          32  False   /sKTFNMsuSgyAcwbD0xXVUXvvbY.jpg   \n",
       "69          69  False  /uUiId6cG32JSRI6RyBQSvQtLjz2.jpg   \n",
       "..         ...    ...                               ...   \n",
       "155        155  False  /qOfUKwYsRLaZJIdkTdQyNeeGc2f.jpg   \n",
       "606        606  False  /xTXF2udD4iOiLeh1ZMtee7YVu7k.jpg   \n",
       "334        334  False  /ob4XnKBqAh1rg381hayebJx6EkE.jpg   \n",
       "590        590  False  /w5XEKGEGG2AXp7tiXjcsEuxn7i5.jpg   \n",
       "587        587  False  /b6p0JcqxSgQYDRD8UQzKtassylA.jpg   \n",
       "\n",
       "                                 belongs_to_collection          budget  \\\n",
       "83                                                 NaN 260000000.00000   \n",
       "4    {'id': 10194, 'name': 'Toy Story Collection', ... 200000000.00000   \n",
       "163  {'id': 694602, 'name': 'Anastasia Collection',... 200000000.00000   \n",
       "32   {'id': 89137, 'name': 'How to Train Your Drago... 200000000.00000   \n",
       "69   {'id': 573436, 'name': 'Spider-Man: Spider-Ver... 200000000.00000   \n",
       "..                                                 ...             ...   \n",
       "155  {'id': 436295, 'name': \"Surf's Up Collection\",...    812000.00000   \n",
       "606                                                NaN    590235.00000   \n",
       "334                                                NaN    315000.00000   \n",
       "590                                                NaN       132.00000   \n",
       "587                                                NaN        30.00000   \n",
       "\n",
       "                                                genres  \\\n",
       "83   [{'id': 12, 'name': 'Adventure'}, {'id': 16, '...   \n",
       "4    [{'id': 12, 'name': 'Adventure'}, {'id': 16, '...   \n",
       "163  [{'id': 16, 'name': 'Animation'}, {'id': 10751...   \n",
       "32   [{'id': 14, 'name': 'Fantasy'}, {'id': 28, 'na...   \n",
       "69   [{'id': 28, 'name': 'Action'}, {'id': 12, 'nam...   \n",
       "..                                                 ...   \n",
       "155  [{'id': 16, 'name': 'Animation'}, {'id': 35, '...   \n",
       "606  [{'id': 16, 'name': 'Animation'}, {'id': 35, '...   \n",
       "334  [{'id': 16, 'name': 'Animation'}, {'id': 35, '...   \n",
       "590  [{'id': 16, 'name': 'Animation'}, {'id': 28, '...   \n",
       "587                  [{'id': 16, 'name': 'Animation'}]   \n",
       "\n",
       "                                              homepage           id  \\\n",
       "83   http://www.wbshop.com/Tom-and-Jerry-Meet-Sherl...  43956.00000   \n",
       "4      https://www.pixar.com/feature-films-toy-story-4 301528.00000   \n",
       "163                                                NaN   9444.00000   \n",
       "32                http://www.howtotrainyourdragon.com/  82702.00000   \n",
       "69                 http://www.intothespiderverse.movie 324857.00000   \n",
       "..                                                 ...          ...   \n",
       "155        https://www.sonypictures.com/movies/surfsup   9408.00000   \n",
       "606                                                NaN 228692.00000   \n",
       "334                     https://www.missinglink.movie/ 458253.00000   \n",
       "590  http://www.thresholdanimationstudios.com/video... 116977.00000   \n",
       "587                                  http://s-wars.jp/  28874.00000   \n",
       "\n",
       "       imdb_id original_language  ... release_date          revenue   runtime  \\\n",
       "83   tt1722638                en  ...   2010-08-24  347988775.00000  49.00000   \n",
       "4    tt1979376                en  ...   2019-06-19 1073394593.00000 100.00000   \n",
       "163  tt0118617                en  ...   1997-11-20  139804348.00000  94.00000   \n",
       "32   tt1646971                en  ...   2014-06-09  609123048.00000 102.00000   \n",
       "69   tt4633694                en  ...   2018-12-06  375540831.00000 117.00000   \n",
       "..         ...               ...  ...          ...              ...       ...   \n",
       "155  tt0423294                en  ...   2007-06-08  149044513.00000  85.00000   \n",
       "606  tt2361846                en  ...   2014-04-23      15077.00000  72.00000   \n",
       "334  tt6348138                en  ...   2019-04-04   16649539.00000  95.00000   \n",
       "590  tt0249516                en  ...   2012-06-15      73706.00000  87.00000   \n",
       "587  tt1474276                ja  ...   2009-08-01      80768.00000 114.00000   \n",
       "\n",
       "                                      spoken_languages    status  \\\n",
       "83   [{'iso_639_1': 'de', 'name': 'Deutsch'}, {'iso...  Released   \n",
       "4             [{'iso_639_1': 'en', 'name': 'English'}]  Released   \n",
       "163  [{'iso_639_1': 'en', 'name': 'English'}, {'iso...  Released   \n",
       "32            [{'iso_639_1': 'en', 'name': 'English'}]  Released   \n",
       "69   [{'iso_639_1': 'en', 'name': 'English'}, {'iso...  Released   \n",
       "..                                                 ...       ...   \n",
       "155           [{'iso_639_1': 'en', 'name': 'English'}]  Released   \n",
       "606           [{'iso_639_1': 'en', 'name': 'English'}]  Released   \n",
       "334           [{'iso_639_1': 'en', 'name': 'English'}]  Released   \n",
       "590           [{'iso_639_1': 'en', 'name': 'English'}]  Released   \n",
       "587               [{'iso_639_1': 'ja', 'name': '日本語'}]  Released   \n",
       "\n",
       "                                               tagline  \\\n",
       "83                                                 NaN   \n",
       "4                            Get Ready to Hit the Road   \n",
       "163  Discover the Adventure Behind the Greatest Mys...   \n",
       "32                               The training is over.   \n",
       "69                        More Than One Wears the Mask   \n",
       "..                                                 ...   \n",
       "155  In the coldest place on Earth, he's the hottes...   \n",
       "606                                                NaN   \n",
       "334                                      Meet Mr. Link   \n",
       "590                                                NaN   \n",
       "587                                                NaN   \n",
       "\n",
       "                                  title  video  vote_average vote_count  \n",
       "83   Tom and Jerry Meet Sherlock Holmes  False       6.90000   27.00000  \n",
       "4                           Toy Story 4  False       7.60000 5034.00000  \n",
       "163                           Anastasia  False       7.60000 3772.00000  \n",
       "32           How to Train Your Dragon 2  False       7.70000 6603.00000  \n",
       "69    Spider-Man: Into the Spider-Verse  False       8.40000 7248.00000  \n",
       "..                                  ...    ...           ...        ...  \n",
       "155                           Surf's Up  False       6.20000 1525.00000  \n",
       "606                            Cheatin'  False       7.70000   17.00000  \n",
       "334                        Missing Link  False       7.00000  375.00000  \n",
       "590                          Foodfight!  False       1.70000   75.00000  \n",
       "587                         Summer Wars  False       7.50000  542.00000  \n",
       "\n",
       "[323 rows x 26 columns]"
      ]
     },
     "execution_count": 407,
     "metadata": {},
     "output_type": "execute_result"
    }
   ],
   "source": [
    "tmdb_by_revenue_df.sort_values(by='budget', ascending=False)"
   ]
  },
  {
   "cell_type": "code",
   "execution_count": 397,
   "metadata": {},
   "outputs": [],
   "source": [
    "tmdb_by_revenue_df = tmdb_by_revenue_df[tmdb_by_revenue_df.budget != 0]"
   ]
  },
  {
   "cell_type": "code",
   "execution_count": 408,
   "metadata": {},
   "outputs": [
    {
     "data": {
      "text/plain": [
       "Text(0.5, 1.0, 'animated Movies, Budget vs Gross (in millions)')"
      ]
     },
     "execution_count": 408,
     "metadata": {},
     "output_type": "execute_result"
    },
    {
     "data": {
      "image/png": "[encoded data removed]",
      "text/plain": [
       "<Figure size 1440x720 with 1 Axes>"
      ]
     },
     "metadata": {
      "needs_background": "light"
     },
     "output_type": "display_data"
    }
   ],
   "source": [
    "fig, ax = plt.subplots(figsize=(20,10))\n",
    "sns.regplot(tmdb_by_revenue_df['budget']/1e6, tmdb_by_revenue_df['revenue']/1e6)\n",
    "ax.set_xlabel(\"Production Budget (M)\")\n",
    "ax.set_ylabel(\"Worldwide Gross (M)\")\n",
    "ax.set_title(\"animated Movies, Budget vs Gross (in millions)\")\n"
   ]
  },
  {
   "cell_type": "code",
   "execution_count": 449,
   "metadata": {},
   "outputs": [],
   "source": [
    "original_tmdb_by_revenue_df.dropna(how='any', subset=['release_date'], inplace=True)"
   ]
  },
  {
   "cell_type": "code",
   "execution_count": 450,
   "metadata": {},
   "outputs": [
    {
     "data": {
      "text/plain": [
       "0"
      ]
     },
     "execution_count": 450,
     "metadata": {},
     "output_type": "execute_result"
    }
   ],
   "source": [
    "original_tmdb_by_revenue_df[\"release_date\"].isnull().sum()"
   ]
  },
  {
   "cell_type": "code",
   "execution_count": 451,
   "metadata": {
    "scrolled": true
   },
   "outputs": [],
   "source": [
    "original_tmdb_by_revenue_df[\"release_year\"] = original_tmdb_by_revenue_df[\"release_date\"].map(lambda date : date[0:4])"
   ]
  },
  {
   "cell_type": "code",
   "execution_count": 452,
   "metadata": {
    "scrolled": true
   },
   "outputs": [],
   "source": [
    "original_tmdb_by_revenue_df[\"release_year\"] = original_tmdb_by_revenue_df[\"release_year\"].astype(int)"
   ]
  },
  {
   "cell_type": "code",
   "execution_count": 453,
   "metadata": {},
   "outputs": [
    {
     "data": {
      "text/plain": [
       "0        2019\n",
       "1        2013\n",
       "2        2018\n",
       "3        2015\n",
       "4        2019\n",
       "         ... \n",
       "10013    2016\n",
       "10014    1973\n",
       "10015    2016\n",
       "10016    1963\n",
       "10017    2016\n",
       "Name: release_year, Length: 9350, dtype: int64"
      ]
     },
     "execution_count": 453,
     "metadata": {},
     "output_type": "execute_result"
    }
   ],
   "source": [
    "original_tmdb_by_revenue_df[\"release_year\"]"
   ]
  },
  {
   "cell_type": "code",
   "execution_count": 455,
   "metadata": {},
   "outputs": [
    {
     "data": {
      "image/png": "[encoded data removed]",
      "text/plain": [
       "<Figure size 1080x432 with 1 Axes>"
      ]
     },
     "metadata": {
      "needs_background": "light"
     },
     "output_type": "display_data"
    }
   ],
   "source": [
    "new_df = original_tmdb_by_revenue_df.loc[(original_tmdb_by_revenue_df['release_year'] > 2009) & (original_tmdb_by_revenue_df['release_year'] < 2020)]\n",
    "y= new_df.groupby(\"release_year\")['title'].count()\n",
    "x= new_df.groupby(\"release_year\")['title'].count().index\n",
    "\n",
    "# Ploting The Graph\n",
    "\n",
    "figure, ax=plt.subplots(figsize=(15,6))\n",
    "ax.bar(x,y)\n",
    "ax.set_title('Number of Animation movies production over previous 10 years')\n",
    "ax.set_xlabel('Year')\n",
    "ax.set_ylabel('Animation Movies');\n",
    "plt.xticks(x);"
   ]
  },
  {
   "cell_type": "code",
   "execution_count": null,
   "metadata": {},
   "outputs": [],
   "source": []
  },
  {
   "cell_type": "code",
   "execution_count": null,
   "metadata": {},
   "outputs": [],
   "source": []
  },
  {
   "cell_type": "code",
   "execution_count": null,
   "metadata": {},
   "outputs": [],
   "source": []
  },
  {
   "cell_type": "code",
   "execution_count": null,
   "metadata": {},
   "outputs": [],
   "source": []
  }
 ],
 "metadata": {
  "kernelspec": {
   "display_name": "learn-env",
   "language": "python",
   "name": "learn-env"
  },
  "language_info": {
   "codemirror_mode": {
    "name": "ipython",
    "version": 3
   },
   "file_extension": ".py",
   "mimetype": "text/x-python",
   "name": "python",
   "nbconvert_exporter": "python",
   "pygments_lexer": "ipython3",
   "version": "3.6.9"
  }
 },
 "nbformat": 4,
 "nbformat_minor": 2
}
